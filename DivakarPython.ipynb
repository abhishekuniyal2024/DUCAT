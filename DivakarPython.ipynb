{
 "cells": [
  {
   "cell_type": "markdown",
   "id": "0a3f5907-f2f9-4c85-a868-f91cb0500412",
   "metadata": {},
   "source": [
    "17 june. taught by divakar kushwaha."
   ]
  },
  {
   "cell_type": "code",
   "execution_count": 14,
   "id": "e6a48146-819f-4f5c-972b-37e503b1ba5a",
   "metadata": {
    "collapsed": true,
    "jupyter": {
     "outputs_hidden": true,
     "source_hidden": true
    }
   },
   "outputs": [
    {
     "name": "stdout",
     "output_type": "stream",
     "text": [
      "welcome to python\n",
      "python can also support single quatation\n"
     ]
    }
   ],
   "source": [
    "# create first python program\n",
    "print(\"welcome to python\")\n",
    "print('python can also support single quatation')"
   ]
  },
  {
   "cell_type": "code",
   "execution_count": 15,
   "id": "df1f3825-5676-4511-bf5e-dd3227c2d57a",
   "metadata": {
    "collapsed": true,
    "jupyter": {
     "outputs_hidden": true,
     "source_hidden": true
    }
   },
   "outputs": [
    {
     "name": "stdout",
     "output_type": "stream",
     "text": [
      "hello world\n",
      "python\n"
     ]
    }
   ],
   "source": [
    "# print 2 line  while taking value\n",
    "t1=\"hello world\"\n",
    "t2=\"python\"\n",
    "print(t1)\n",
    "print(t2)"
   ]
  },
  {
   "cell_type": "code",
   "execution_count": 11,
   "id": "f52a8493-e864-4311-abb1-c7b8aea296de",
   "metadata": {
    "collapsed": true,
    "jupyter": {
     "outputs_hidden": true,
     "source_hidden": true
    }
   },
   "outputs": [
    {
     "name": "stdout",
     "output_type": "stream",
     "text": [
      "hello world python\n"
     ]
    }
   ],
   "source": [
    "# use t1 and t2 in a single line\n",
    "t1=\"hello world\"\n",
    "t2=\"python\"\n",
    "print(t1,t2)"
   ]
  },
  {
   "cell_type": "code",
   "execution_count": 12,
   "id": "008e572d-7817-4ca0-9648-570b0b55b3fe",
   "metadata": {
    "collapsed": true,
    "jupyter": {
     "outputs_hidden": true,
     "source_hidden": true
    }
   },
   "outputs": [
    {
     "name": "stdout",
     "output_type": "stream",
     "text": [
      "hello world\n",
      " python\n"
     ]
    }
   ],
   "source": [
    "#how to display multiple variable with print function\n",
    "t1=\"hello world\\n\"\n",
    "t2=\"python\"\n",
    "print(t1,t2)"
   ]
  },
  {
   "cell_type": "code",
   "execution_count": 19,
   "id": "c4efc639-b2b1-493e-bf63-cf236267e299",
   "metadata": {
    "collapsed": true,
    "jupyter": {
     "outputs_hidden": true,
     "source_hidden": true
    }
   },
   "outputs": [
    {
     "name": "stdout",
     "output_type": "stream",
     "text": [
      "sum of num1 and num2 is:  15\n"
     ]
    }
   ],
   "source": [
    "#how to add 2 numbers\n",
    "num1= 10\n",
    "num2= 5\n",
    "print(\"sum of num1 and num2 is: \",num1+num2)"
   ]
  },
  {
   "cell_type": "code",
   "execution_count": 10,
   "id": "6d4bfb9b-8721-463e-80a6-41f3de5329b4",
   "metadata": {
    "collapsed": true,
    "jupyter": {
     "outputs_hidden": true,
     "source_hidden": true
    }
   },
   "outputs": [
    {
     "name": "stdout",
     "output_type": "stream",
     "text": [
      "sum of a and b is:  9\n",
      "subtraction of a and b is:  -1\n",
      "mulitplication of a and b is:  20\n",
      "divison of a by b is:  0.8\n"
     ]
    }
   ],
   "source": [
    "a=4\n",
    "b=5\n",
    "print(\"sum of a and b is: \",a+b)\n",
    "print(\"subtraction of a and b is: \",a-b)\n",
    "print(\"mulitplication of a and b is: \",a*b)\n",
    "print(\"divison of a by b is: \",a/b)"
   ]
  },
  {
   "cell_type": "code",
   "execution_count": null,
   "id": "ddac8300-b61b-48d7-8270-8c59ed60cc13",
   "metadata": {
    "collapsed": true,
    "jupyter": {
     "outputs_hidden": true,
     "source_hidden": true
    }
   },
   "outputs": [],
   "source": [
    "#Data Types 18 june\n",
    "#Numeric = Number (0-9)  -> int\n",
    "#String  = \"Abhishek21@gmail.com\"  -> double quotaion\n",
    "#String  = 'Abhishek21@gmail.com'  -> single quotaion\n",
    "#Float   = 15.24 -> with decimal\n",
    "#Boolean = True and False \n",
    "#Complex = 3j -> number and character together without quoation"
   ]
  },
  {
   "cell_type": "code",
   "execution_count": 4,
   "id": "b6000815-3ebf-4358-92ad-edcecc38fd93",
   "metadata": {
    "collapsed": true,
    "jupyter": {
     "outputs_hidden": true,
     "source_hidden": true
    }
   },
   "outputs": [
    {
     "name": "stdout",
     "output_type": "stream",
     "text": [
      "<class 'int'>\n",
      "<class 'str'>\n",
      "<class 'float'>\n"
     ]
    }
   ],
   "source": [
    "# how to use type function()\n",
    "a=13\n",
    "print(type(a))\n",
    "\n",
    "b=\"hello\"\n",
    "print(type(b))\n",
    "\n",
    "c=10.34\n",
    "print(type(c))"
   ]
  },
  {
   "cell_type": "code",
   "execution_count": 2,
   "id": "8dd8de5c-1e1e-4cb0-aed2-ee316487ca29",
   "metadata": {
    "collapsed": true,
    "jupyter": {
     "outputs_hidden": true,
     "source_hidden": true
    }
   },
   "outputs": [
    {
     "name": "stdout",
     "output_type": "stream",
     "text": [
      "good evening\n",
      "this is python class.\n",
      "good evenin this is python class.\n",
      "good evening.\t this is python class.\n"
     ]
    }
   ],
   "source": [
    "# how to use escape character\n",
    "\n",
    "# how to use \\n for newline character \n",
    "text= \"good evening\\nthis is python class.\"\n",
    "print(text)\n",
    "\n",
    "# how to use \\b for backspace. it work as backspace key, remove last characcter or space\n",
    "text= \"good evening\\b this is python class.\"\n",
    "print(text)\n",
    "\n",
    "# how to use \\t for apce between two string\n",
    "text= \"good evening.\\t this is python class.\"\n",
    "print(text)\n",
    "#"
   ]
  },
  {
   "cell_type": "code",
   "execution_count": 6,
   "id": "c007e96e-2f71-4b2d-816e-fe85489b2834",
   "metadata": {
    "collapsed": true,
    "jupyter": {
     "outputs_hidden": true,
     "source_hidden": true
    }
   },
   "outputs": [
    {
     "name": "stdout",
     "output_type": "stream",
     "text": [
      " \n",
      "my name is abhishek.\n",
      "this is python class.\n",
      "divakar sir is teaching python.\n",
      "its highly useful for data science.\n",
      "\n"
     ]
    }
   ],
   "source": [
    "# how to create multiline strings. it can take both single and double quation mark.\n",
    "text = \"\"\" \n",
    "my name is abhishek.\n",
    "this is python class.\n",
    "divakar sir is teaching python.\n",
    "its highly useful for data science.\n",
    "\"\"\"\n",
    "print(text)"
   ]
  },
  {
   "cell_type": "code",
   "execution_count": 3,
   "id": "a236c6fd-18c5-4cdf-bd36-c958fe505d10",
   "metadata": {
    "collapsed": true,
    "jupyter": {
     "outputs_hidden": true,
     "source_hidden": true
    }
   },
   "outputs": [
    {
     "name": "stdin",
     "output_type": "stream",
     "text": [
      "enter your first number:  4\n",
      "enter your second number:  3\n"
     ]
    },
    {
     "name": "stdout",
     "output_type": "stream",
     "text": [
      "sum of num1 and num2 is😊 :  7\n",
      "sum  of first and second number is 7 \n"
     ]
    }
   ],
   "source": [
    "# how to add 2 number user defined. to enter smiley win + >\n",
    "# so for user defeined, we have to use input function() which will take input from user.\n",
    "num1 = int(input(\"enter your first number: \"))\n",
    "num2 = int(input(\"enter your second number: \"))\n",
    "sum = num1+num2\n",
    "print(\"sum of num1 and num2 is😊 : \",sum)\n",
    "print(f\"sum  of first and second number is {sum} \")"
   ]
  },
  {
   "cell_type": "code",
   "execution_count": 10,
   "id": "a887bdfc-0fba-458b-92a7-03569e958496",
   "metadata": {
    "collapsed": true,
    "jupyter": {
     "outputs_hidden": true,
     "source_hidden": true
    }
   },
   "outputs": [
    {
     "name": "stdin",
     "output_type": "stream",
     "text": [
      "enter first number 6\n",
      "enter second number 2\n"
     ]
    },
    {
     "name": "stdout",
     "output_type": "stream",
     "text": [
      "4\n"
     ]
    }
   ],
   "source": [
    "# subtraction\n",
    "x= int(input(\"enter first number\"))\n",
    "y= int(input(\"enter second number\"))\n",
    "print(x-y)"
   ]
  },
  {
   "cell_type": "code",
   "execution_count": 4,
   "id": "e84d1878-5371-4b8d-9dad-b3932a2a7535",
   "metadata": {
    "collapsed": true,
    "jupyter": {
     "outputs_hidden": true,
     "source_hidden": true
    },
    "scrolled": true
   },
   "outputs": [
    {
     "name": "stdin",
     "output_type": "stream",
     "text": [
      "enter frist number 5\n",
      "enter second number 7\n"
     ]
    },
    {
     "name": "stdout",
     "output_type": "stream",
     "text": [
      "muliplication of x and y is:  35\n"
     ]
    }
   ],
   "source": [
    "# multiplicartion\n",
    "x=int(input(\"enter frist number\"))\n",
    "y=int(input(\"enter second number\"))\n",
    "print(\"muliplication of x and y is: \",x *y)"
   ]
  },
  {
   "cell_type": "code",
   "execution_count": 14,
   "id": "7676f58f-34b4-4252-9e31-65d693d3d505",
   "metadata": {
    "collapsed": true,
    "jupyter": {
     "outputs_hidden": true,
     "source_hidden": true
    }
   },
   "outputs": [
    {
     "name": "stdin",
     "output_type": "stream",
     "text": [
      "enter first number 6\n",
      "enter second number:  2\n"
     ]
    },
    {
     "name": "stdout",
     "output_type": "stream",
     "text": [
      "3.0\n"
     ]
    }
   ],
   "source": [
    "# division\n",
    "x=int(input(\"enter first number\" ))\n",
    "y= int(input(\"enter second number: \"))\n",
    "print(x/y)"
   ]
  },
  {
   "cell_type": "markdown",
   "id": "ad12dfde-4540-4247-a973-027a188740b9",
   "metadata": {},
   "source": [
    "18 june"
   ]
  },
  {
   "cell_type": "code",
   "execution_count": 16,
   "id": "45dd8002-ac51-4e03-bf03-8c552bfbe86c",
   "metadata": {
    "collapsed": true,
    "jupyter": {
     "outputs_hidden": true,
     "source_hidden": true
    }
   },
   "outputs": [
    {
     "name": "stdin",
     "output_type": "stream",
     "text": [
      "enter your name da\n",
      "enter your email asd\n",
      "enter your program name  \n",
      "enter your city ad\n"
     ]
    },
    {
     "name": "stdout",
     "output_type": "stream",
     "text": [
      "my name is  da\n",
      "my eamil is  asd\n",
      "my program is  \n",
      "my city is ad\n"
     ]
    }
   ],
   "source": [
    "# how to use string data type user define\n",
    "name= str(input(\"enter your name\"))\n",
    "email =str(input(\"enter your email\"))\n",
    "program =str(input(\"enter your program name \"))\n",
    "city=str(input(\"enter your city\"))\n",
    "# display the output\n",
    "print(\"my name is \",name)\n",
    "print(\"my eamil is \",email)\n",
    "print(\"my program is \",program)\n",
    "print(\"my city is\",city)"
   ]
  },
  {
   "cell_type": "code",
   "execution_count": 5,
   "id": "5f89e2a0-bb0c-4b64-92c9-c9316f3daac7",
   "metadata": {
    "collapsed": true,
    "jupyter": {
     "outputs_hidden": true,
     "source_hidden": true
    }
   },
   "outputs": [
    {
     "name": "stdin",
     "output_type": "stream",
     "text": [
      "enter your name asd\n",
      "enter your email sad\n",
      "enter your program name  asd\n",
      "enter your city sda\n"
     ]
    },
    {
     "name": "stdout",
     "output_type": "stream",
     "text": [
      "my name is  asd\n",
      "my email id is  sad\n",
      "my program is asd\n",
      "my city is  sda\n"
     ]
    }
   ],
   "source": [
    "# string concatenation\n",
    "name= str(input(\"enter your name\"))\n",
    "email =str(input(\"enter your email\"))\n",
    "program =str(input(\"enter your program name \"))\n",
    "city=str(input(\"enter your city\"))\n",
    "# display the output\n",
    "print(\"my name is \",name + \"\\nmy email id is \",email + \"\\nmy program is\",program + \"\\nmy city is \",city)"
   ]
  },
  {
   "cell_type": "code",
   "execution_count": 20,
   "id": "5a20c8b4-c566-4947-972c-b3757246578c",
   "metadata": {
    "collapsed": true,
    "jupyter": {
     "outputs_hidden": true,
     "source_hidden": true
    }
   },
   "outputs": [
    {
     "name": "stdin",
     "output_type": "stream",
     "text": [
      "what is your name:  abhishek\n",
      "what course are you doing:  data sceicne\n",
      "in which city you live:  uttarpradesh\n"
     ]
    },
    {
     "name": "stdout",
     "output_type": "stream",
     "text": [
      "my name is abhishek\n",
      "i am doing  data sceicne\n",
      "i live in uttarpradesh\n"
     ]
    }
   ],
   "source": [
    "# self introduction\n",
    "name  = input(\"what is your name: \")\n",
    "program = input(\"what course are you doing: \")\n",
    "city= input(\"in which city you live: \")\n",
    "print(\"my name is\",name)\n",
    "print(\"i am doing \", program)\n",
    "print(\"i live in\", city)"
   ]
  },
  {
   "cell_type": "code",
   "execution_count": 17,
   "id": "701c0c9f-1537-46a2-87a5-876c2ebda44a",
   "metadata": {
    "collapsed": true,
    "jupyter": {
     "outputs_hidden": true,
     "source_hidden": true
    }
   },
   "outputs": [
    {
     "name": "stdout",
     "output_type": "stream",
     "text": [
      "4\n"
     ]
    }
   ],
   "source": [
    "x= 2\n",
    "x=x+2\n",
    "print(x)"
   ]
  },
  {
   "cell_type": "code",
   "execution_count": 6,
   "id": "c562fa46-6e38-4e63-821e-29aba25f05c4",
   "metadata": {
    "collapsed": true,
    "jupyter": {
     "outputs_hidden": true,
     "source_hidden": true
    }
   },
   "outputs": [
    {
     "name": "stdin",
     "output_type": "stream",
     "text": [
      "enter your age  15\n"
     ]
    },
    {
     "name": "stdout",
     "output_type": "stream",
     "text": [
      "you cannot vote\n"
     ]
    }
   ],
   "source": [
    "# how to use conditional construct if and else\n",
    "# how to arrange block indent \n",
    "Age = int(input(\"enter your age \"))\n",
    "if (Age >=18):\n",
    "    print(\"you can vote\")\n",
    "else:\n",
    "    print(\"you cannot vote\")"
   ]
  },
  {
   "cell_type": "markdown",
   "id": "9ab9101e-4ad6-4881-a2fb-6610ab2a9f7d",
   "metadata": {},
   "source": [
    "19 june"
   ]
  },
  {
   "cell_type": "code",
   "execution_count": 12,
   "id": "d631dcbc-6ece-4619-a0ab-1463f8c80d8e",
   "metadata": {
    "collapsed": true,
    "jupyter": {
     "outputs_hidden": true,
     "source_hidden": true
    }
   },
   "outputs": [
    {
     "name": "stdin",
     "output_type": "stream",
     "text": [
      "enter the year  2323\n"
     ]
    },
    {
     "name": "stdout",
     "output_type": "stream",
     "text": [
      "its not a leap year\n"
     ]
    }
   ],
   "source": [
    "# to check if its a leap year or not\n",
    "Leap_year = int(input(\"enter the year \"))\n",
    "if (Leap_year %4==0):\n",
    "    print(\"its a leap year\")\n",
    "else:\n",
    "    print(\"its not a leap year\")"
   ]
  },
  {
   "cell_type": "code",
   "execution_count": 13,
   "id": "8707570e-e765-405d-a48d-668fe3c914c1",
   "metadata": {
    "collapsed": true,
    "jupyter": {
     "outputs_hidden": true,
     "source_hidden": true
    }
   },
   "outputs": [
    {
     "name": "stdin",
     "output_type": "stream",
     "text": [
      "enter the number:  21\n"
     ]
    },
    {
     "name": "stdout",
     "output_type": "stream",
     "text": [
      "its a odd number\n"
     ]
    }
   ],
   "source": [
    "# to check for even odd number\n",
    "num = int(input(\"enter the number: \"))\n",
    "if (num%2==0):\n",
    "    print(\"its a even number\")\n",
    "else:\n",
    "    print(\"its a odd number\")"
   ]
  },
  {
   "cell_type": "code",
   "execution_count": 16,
   "id": "a8e82cc2-061d-4c12-88ab-22fd3046bc0f",
   "metadata": {
    "collapsed": true,
    "jupyter": {
     "outputs_hidden": true,
     "source_hidden": true
    }
   },
   "outputs": [
    {
     "name": "stdin",
     "output_type": "stream",
     "text": [
      "enter your marks:  50\n"
     ]
    },
    {
     "name": "stdout",
     "output_type": "stream",
     "text": [
      "you passed\n"
     ]
    }
   ],
   "source": [
    "# semseter mark.\n",
    "mark = int(input(\"enter your marks: \"))\n",
    "if (mark >=50):\n",
    "    print(\"you passed\")\n",
    "else:\n",
    "    print(\"you failed\")"
   ]
  },
  {
   "cell_type": "code",
   "execution_count": 21,
   "id": "4317d083-e3b2-4c11-8507-7aa7b33ae79c",
   "metadata": {
    "collapsed": true,
    "jupyter": {
     "outputs_hidden": true,
     "source_hidden": true
    }
   },
   "outputs": [
    {
     "name": "stdin",
     "output_type": "stream",
     "text": [
      "enter your age:  25\n"
     ]
    },
    {
     "name": "stdout",
     "output_type": "stream",
     "text": [
      "you can drink\n"
     ]
    }
   ],
   "source": [
    "# drinking age\n",
    "age = int(input(\"enter your age: \"))\n",
    "if (age>=25):\n",
    "    print(\"you can drink\")\n",
    "else:\n",
    "    print(\"you can't drink\")"
   ]
  },
  {
   "cell_type": "code",
   "execution_count": 23,
   "id": "9740ad86-86b2-4198-9ea1-56b14cc3b482",
   "metadata": {
    "collapsed": true,
    "jupyter": {
     "outputs_hidden": true,
     "source_hidden": true
    }
   },
   "outputs": [
    {
     "name": "stdin",
     "output_type": "stream",
     "text": [
      "enter number:  5\n"
     ]
    },
    {
     "name": "stdout",
     "output_type": "stream",
     "text": [
      "number is positive\n"
     ]
    }
   ],
   "source": [
    "# to check if number is positive or negative\n",
    "number = int(input(\"enter number: \"))\n",
    "if (number>0):\n",
    "    print(\"number is positive\")\n",
    "else:\n",
    "    print(\"number is negative\")"
   ]
  },
  {
   "cell_type": "code",
   "execution_count": 26,
   "id": "8a2616ae-01da-44b7-a546-319a7300a2b4",
   "metadata": {
    "collapsed": true,
    "jupyter": {
     "outputs_hidden": true,
     "source_hidden": true
    }
   },
   "outputs": [
    {
     "name": "stdin",
     "output_type": "stream",
     "text": [
      "enter your username abhishek\n",
      "enter your password abhishek23\n"
     ]
    },
    {
     "name": "stdout",
     "output_type": "stream",
     "text": [
      "you can login\n"
     ]
    }
   ],
   "source": [
    "# how to use conditional construct if-else with the logical operator\n",
    "username = str(input(\"enter your username\"))\n",
    "password = str(input(\"enter your password\"))\n",
    "if (username==\"abhishek\" and password==\"abhishek23\"):\n",
    "    print(\"you can login\")\n",
    "else:\n",
    "    print(\"sorry, you can't login\")"
   ]
  },
  {
   "cell_type": "code",
   "execution_count": 4,
   "id": "d91a3ccb-4e0b-418f-9f86-cf5485e8b213",
   "metadata": {
    "collapsed": true,
    "jupyter": {
     "outputs_hidden": true,
     "source_hidden": true
    }
   },
   "outputs": [
    {
     "name": "stdin",
     "output_type": "stream",
     "text": [
      "enter your name abhishek\n",
      "enter your pin 1923\n"
     ]
    },
    {
     "name": "stdout",
     "output_type": "stream",
     "text": [
      "you can take out money\n"
     ]
    }
   ],
   "source": [
    "# make more example like if-else with logical operator like atm, upi pin, \n",
    "name = str(input(\"enter your name\"))\n",
    "pin = int(input(\"enter your pin\"))\n",
    "if (name==\"abhishek\" and pin==1923):\n",
    "    print(\"you can take out money\")\n",
    "else:\n",
    "    print(\"sorry, you can't take put money\")"
   ]
  },
  {
   "cell_type": "code",
   "execution_count": 8,
   "id": "b60536c3-357e-49a3-9e74-85025dce71e9",
   "metadata": {
    "collapsed": true,
    "jupyter": {
     "outputs_hidden": true,
     "source_hidden": true
    }
   },
   "outputs": [
    {
     "name": "stdin",
     "output_type": "stream",
     "text": [
      "enter your username gbhj\n",
      "enter your mobile number 678\n"
     ]
    },
    {
     "name": "stdout",
     "output_type": "stream",
     "text": [
      "sorry, you can't login\n"
     ]
    }
   ],
   "source": [
    "#  with \"or\"\n",
    "username = str(input(\"enter your username\"))\n",
    "mobile = int(input(\"enter your mobile number\"))\n",
    "if (username==\"abhishek\" or mobile==99999):\n",
    "    print(\"you can login\")\n",
    "else:\n",
    "    print(\"sorry, you can't login\")"
   ]
  },
  {
   "cell_type": "code",
   "execution_count": 13,
   "id": "2f05a5de-5748-40f8-be33-a2e7aa1df327",
   "metadata": {
    "collapsed": true,
    "jupyter": {
     "outputs_hidden": true,
     "source_hidden": true
    }
   },
   "outputs": [
    {
     "name": "stdin",
     "output_type": "stream",
     "text": [
      "enter your marks:  33\n"
     ]
    },
    {
     "name": "stdout",
     "output_type": "stream",
     "text": [
      "you failed\n"
     ]
    }
   ],
   "source": [
    "#  how to create nested if-else means condition inside condition\n",
    "#  for nested if-else we have to use elif keyword\n",
    "marks=int(input(\"enter your marks: \"))\n",
    "if (marks>=90 and marks<100):\n",
    "    print(\"excellent\")\n",
    "elif (marks>=80 and marks<90):\n",
    "    print(\"very good\")\n",
    "elif (marks>=70 and marks<80):\n",
    "    print(\"good\")\n",
    "elif (marks>=60 and marks<70):\n",
    "    print(\"decent\")\n",
    "elif (marks>=50 and marks<60):\n",
    "    print(\"average\")\n",
    "elif (marks>=40 and marks<50):\n",
    "    print(\"poor\")\n",
    "else:\n",
    "    print(\"you failed\")"
   ]
  },
  {
   "cell_type": "code",
   "execution_count": 32,
   "id": "c792fee1-ee90-4a73-b623-f0725d4c0036",
   "metadata": {
    "collapsed": true,
    "jupyter": {
     "outputs_hidden": true,
     "source_hidden": true
    }
   },
   "outputs": [
    {
     "name": "stdin",
     "output_type": "stream",
     "text": [
      "enter your first test marks:  68\n",
      "enter your second test marks:  75\n"
     ]
    },
    {
     "name": "stdout",
     "output_type": "stream",
     "text": [
      "you failed the interview\n"
     ]
    }
   ],
   "source": [
    "# 2 round of interview. round 1 and round 2 marks must be equal or more than 70, and their average must be >=75\n",
    "test1=int(input(\"enter your first test marks: \"))\n",
    "test2=int(input(\"enter your second test marks: \"))\n",
    "average=(test1 + test2)/2\n",
    "if(test1>=70 and test2>=70 and average>=75):\n",
    "    print(\"you passed the interview\")\n",
    "else:\n",
    "    print(\"you failed the interview\")"
   ]
  },
  {
   "cell_type": "code",
   "execution_count": null,
   "id": "9e78b2c8-c3f8-46cf-8e97-84e0313634d9",
   "metadata": {
    "collapsed": true,
    "jupyter": {
     "outputs_hidden": true,
     "source_hidden": true
    }
   },
   "outputs": [],
   "source": [
    "#  or\n",
    "select =str(input(\"select your option\"))\n",
    "if(select==\"Y\" or select==\"y\"):\n",
    "    print(\"you can join\")\n",
    "else(select==\"N\" or select==\"n\"):\n",
    "    print(\"you cannot join\")"
   ]
  },
  {
   "cell_type": "code",
   "execution_count": 30,
   "id": "eb438794-c56d-425d-b24d-440789ced239",
   "metadata": {
    "collapsed": true,
    "jupyter": {
     "outputs_hidden": true,
     "source_hidden": true
    }
   },
   "outputs": [
    {
     "name": "stdin",
     "output_type": "stream",
     "text": [
      "enter your alphabet:  g\n"
     ]
    },
    {
     "name": "stdout",
     "output_type": "stream",
     "text": [
      "your word is not a vowel\n"
     ]
    }
   ],
   "source": [
    "# or\n",
    "alphabet= str(input(\"enter your alphabet: \"))\n",
    "if(alphabet==\"a\" or alphabet==\"e\" or alphabet==\"i\" or alphabet==\"o\" or alphabet==\"u\"):\n",
    "    print(\"your alphabet is a vowel\")\n",
    "else:\n",
    "    print(\"your word is not a vowel\")"
   ]
  },
  {
   "cell_type": "code",
   "execution_count": 36,
   "id": "a225e171-9f99-4d18-aa00-19f6042f6e39",
   "metadata": {
    "collapsed": true,
    "jupyter": {
     "outputs_hidden": true,
     "source_hidden": true
    }
   },
   "outputs": [
    {
     "name": "stdout",
     "output_type": "stream",
     "text": [
      "HELLO\n"
     ]
    }
   ],
   "source": [
    "# how to create string funtion(). there is so casefold for upper.\n",
    "# string upper\n",
    "t1=\"hello\"\n",
    "print(t1.upper())"
   ]
  },
  {
   "cell_type": "code",
   "execution_count": 37,
   "id": "2ac50ac7-7ab3-40b6-8150-b74186b11f10",
   "metadata": {
    "collapsed": true,
    "jupyter": {
     "outputs_hidden": true,
     "source_hidden": true
    }
   },
   "outputs": [
    {
     "name": "stdout",
     "output_type": "stream",
     "text": [
      "hello\n"
     ]
    }
   ],
   "source": [
    "# string lower. its use for shorter data.\n",
    "t2=\"hello\"\n",
    "print(t2.lower())"
   ]
  },
  {
   "cell_type": "code",
   "execution_count": null,
   "id": "ab6e5bb3-95db-4cd7-afcf-304f585fe205",
   "metadata": {
    "collapsed": true,
    "jupyter": {
     "outputs_hidden": true,
     "source_hidden": true
    }
   },
   "outputs": [],
   "source": [
    "# string casefold. casefold is use for long amount of data. its faster than lower.\n",
    "t3=\"hello. this is a python class\"\n",
    "print(t3.casefold())"
   ]
  },
  {
   "cell_type": "code",
   "execution_count": 41,
   "id": "2b420ea5-f9c9-4df4-aca6-8781f06b2f43",
   "metadata": {
    "collapsed": true,
    "jupyter": {
     "outputs_hidden": true,
     "source_hidden": true
    }
   },
   "outputs": [
    {
     "name": "stdout",
     "output_type": "stream",
     "text": [
      "Welcome to the python class.\n"
     ]
    }
   ],
   "source": [
    "#  string capitalize(). it capitalize first letter\n",
    "t4=\"welcome to the python class.\"\n",
    "print(t4.capitalize())"
   ]
  },
  {
   "cell_type": "code",
   "execution_count": 47,
   "id": "f3b0f184-3e59-4a3c-ae35-1b2c01a37778",
   "metadata": {
    "collapsed": true,
    "jupyter": {
     "outputs_hidden": true,
     "source_hidden": true
    }
   },
   "outputs": [
    {
     "name": "stdout",
     "output_type": "stream",
     "text": [
      "False\n",
      "False\n",
      "True\n"
     ]
    }
   ],
   "source": [
    "# string isupper()\n",
    "name1=\"abhishek\"\n",
    "print(name1.isupper())\n",
    "name2=\"Abhishek\"\n",
    "print(name2.isupper())\n",
    "name3=\"ABHISHEK\"\n",
    "print(name3.isupper())"
   ]
  },
  {
   "cell_type": "code",
   "execution_count": 48,
   "id": "5ca856ae-108c-4deb-8221-39b36ffcb8d1",
   "metadata": {
    "collapsed": true,
    "jupyter": {
     "outputs_hidden": true,
     "source_hidden": true
    }
   },
   "outputs": [
    {
     "name": "stdout",
     "output_type": "stream",
     "text": [
      "True\n",
      "False\n",
      "False\n"
     ]
    }
   ],
   "source": [
    "# STRING IS LOWER()\n",
    "name1=\"abhishek\"\n",
    "print(name1.islower())\n",
    "name2=\"Abhishek\"\n",
    "print(name2.islower())\n",
    "name3=\"ABHISHEK\"\n",
    "print(name3.islower())"
   ]
  },
  {
   "cell_type": "code",
   "execution_count": 51,
   "id": "fe2383e7-6c14-4347-af40-cbbc52cb40cf",
   "metadata": {
    "collapsed": true,
    "jupyter": {
     "outputs_hidden": true,
     "source_hidden": true
    }
   },
   "outputs": [
    {
     "name": "stdout",
     "output_type": "stream",
     "text": [
      "False\n",
      "True\n"
     ]
    }
   ],
   "source": [
    "#  string istitle(). first letter of every word has to be upper.\n",
    "txt=\"Python is easier language to understand\"\n",
    "print(txt.istitle())\n",
    "txt2=\"Python Is Easier Language To Understand\"\n",
    "print(txt2.istitle())"
   ]
  },
  {
   "cell_type": "markdown",
   "id": "737793d2-b21f-4839-ad4c-db473d5afe37",
   "metadata": {},
   "source": [
    "24 june"
   ]
  },
  {
   "cell_type": "code",
   "execution_count": 2,
   "id": "e0b9d9ed-3856-44ad-bec9-80208eec7b83",
   "metadata": {
    "collapsed": true,
    "jupyter": {
     "outputs_hidden": true,
     "source_hidden": true
    }
   },
   "outputs": [
    {
     "name": "stdout",
     "output_type": "stream",
     "text": [
      "hi, world\n"
     ]
    }
   ],
   "source": [
    "# Go to file ->save and export noteboook as -> html ->\n",
    "# how to use strip string. to remove space from beginning and end both side\n",
    "a=\" hi, world \"\n",
    "print(a.strip())"
   ]
  },
  {
   "cell_type": "code",
   "execution_count": 2,
   "id": "2a85769f-9114-4e0a-98c4-12f22b1032c2",
   "metadata": {
    "collapsed": true,
    "jupyter": {
     "outputs_hidden": true,
     "source_hidden": true
    }
   },
   "outputs": [
    {
     "name": "stdout",
     "output_type": "stream",
     "text": [
      "hi world\n"
     ]
    }
   ],
   "source": [
    "# how to replace string method(). most important\n",
    "b=\"hello world\"\n",
    "print(b.replace(\"hello\",\"hi\"))"
   ]
  },
  {
   "cell_type": "code",
   "execution_count": 8,
   "id": "02adf51f-c9d4-499b-b9cf-a883313da679",
   "metadata": {
    "collapsed": true,
    "jupyter": {
     "outputs_hidden": true,
     "source_hidden": true
    }
   },
   "outputs": [
    {
     "name": "stdout",
     "output_type": "stream",
     "text": [
      "['hello', 'python', 'programmer', '23']\n"
     ]
    }
   ],
   "source": [
    "#  how to use split string method(). split method split into substring\n",
    "t1= \"hello python programmer 23\"\n",
    "print(t1.split())"
   ]
  },
  {
   "cell_type": "code",
   "execution_count": 10,
   "id": "59dd2ff0-62c9-4b38-94b4-bc3231406a81",
   "metadata": {
    "collapsed": true,
    "jupyter": {
     "outputs_hidden": true,
     "source_hidden": true
    }
   },
   "outputs": [
    {
     "name": "stdout",
     "output_type": "stream",
     "text": [
      "abhishek pankaj 24\n"
     ]
    }
   ],
   "source": [
    "# many value to mulitple variable\n",
    "a,b,c = \"abhishek\", \"pankaj\", 24\n",
    "print(a,b,c)"
   ]
  },
  {
   "cell_type": "code",
   "execution_count": 12,
   "id": "1cc6b6e5-1a1b-4b29-a030-4fd3e669aadb",
   "metadata": {
    "collapsed": true,
    "jupyter": {
     "outputs_hidden": true,
     "source_hidden": true
    }
   },
   "outputs": [
    {
     "name": "stdout",
     "output_type": "stream",
     "text": [
      "abhishek \n",
      "pankaj \n",
      "24\n"
     ]
    }
   ],
   "source": [
    "a,b,c = \"abhishek\", \"\\npankaj\", \"\\n24\"\n",
    "print(a,b,c)"
   ]
  },
  {
   "cell_type": "code",
   "execution_count": 13,
   "id": "6078e12f-f514-42f7-bccd-c00a77fde193",
   "metadata": {
    "collapsed": true,
    "jupyter": {
     "outputs_hidden": true,
     "source_hidden": true
    }
   },
   "outputs": [
    {
     "name": "stdout",
     "output_type": "stream",
     "text": [
      "abhi abhi abhi\n"
     ]
    }
   ],
   "source": [
    "# one value to mulitple variable\n",
    "a=b=c=\"abhi\"\n",
    "print(a,b,c)"
   ]
  },
  {
   "cell_type": "code",
   "execution_count": 14,
   "id": "67175db7-ef80-4eb0-9c74-8b8233e37814",
   "metadata": {
    "collapsed": true,
    "jupyter": {
     "outputs_hidden": true,
     "source_hidden": true
    }
   },
   "outputs": [
    {
     "name": "stdout",
     "output_type": "stream",
     "text": [
      "\n",
      "abhi \n",
      "abhi \n",
      "abhi\n"
     ]
    }
   ],
   "source": [
    "a=b=c=\"\\nabhi\"\n",
    "print(a,b,c)"
   ]
  },
  {
   "cell_type": "code",
   "execution_count": 19,
   "id": "d1783968-5b14-44cd-9a7e-7986886e5015",
   "metadata": {
    "collapsed": true,
    "jupyter": {
     "outputs_hidden": true,
     "source_hidden": true
    }
   },
   "outputs": [
    {
     "name": "stdout",
     "output_type": "stream",
     "text": [
      "Pythonissuper\n"
     ]
    }
   ],
   "source": [
    "# how to add multiple string\n",
    "p=\"Python\"\n",
    "q=\"is\"\n",
    "r=\"super\"\n",
    "print(p+q+r)"
   ]
  },
  {
   "cell_type": "code",
   "execution_count": 21,
   "id": "35b36707-8188-4d4a-b9be-96ed97a92c9a",
   "metadata": {
    "collapsed": true,
    "jupyter": {
     "outputs_hidden": true,
     "source_hidden": true
    }
   },
   "outputs": [
    {
     "name": "stdout",
     "output_type": "stream",
     "text": [
      "Python is super\n"
     ]
    }
   ],
   "source": [
    "p=\"Python \"\n",
    "q=\"is \"\n",
    "r=\"super\"\n",
    "print(p+q+r)"
   ]
  },
  {
   "cell_type": "code",
   "execution_count": 22,
   "id": "fce89c61-28c9-44f7-a202-737819f61024",
   "metadata": {
    "collapsed": true,
    "jupyter": {
     "outputs_hidden": true,
     "source_hidden": true
    }
   },
   "outputs": [
    {
     "name": "stdout",
     "output_type": "stream",
     "text": [
      " Python\n",
      " is\n",
      " super\n"
     ]
    }
   ],
   "source": [
    "p=\"Python\"\n",
    "q=\"is\"\n",
    "r=\"super\"\n",
    "print(\"\",p +\"\\n\",q + \"\\n\",r)"
   ]
  },
  {
   "cell_type": "code",
   "execution_count": 26,
   "id": "86690e41-38b7-4cb6-8e1a-66c976ec2eda",
   "metadata": {
    "collapsed": true,
    "jupyter": {
     "outputs_hidden": true,
     "source_hidden": true
    }
   },
   "outputs": [
    {
     "name": "stdout",
     "output_type": "stream",
     "text": [
      "True\n",
      "<class 'bool'>\n"
     ]
    }
   ],
   "source": [
    "# boolean data\n",
    "ptxt=True\n",
    "print(ptxt)\n",
    "print(type(ptxt))"
   ]
  },
  {
   "cell_type": "code",
   "execution_count": 28,
   "id": "5d67b37e-af4f-420c-8259-969b192eb9fb",
   "metadata": {
    "collapsed": true,
    "jupyter": {
     "outputs_hidden": true,
     "source_hidden": true
    }
   },
   "outputs": [
    {
     "name": "stdout",
     "output_type": "stream",
     "text": [
      "2j\n",
      "<class 'complex'>\n"
     ]
    }
   ],
   "source": [
    "# complex data\n",
    "x=2j\n",
    "print(x)\n",
    "print(type(x))"
   ]
  },
  {
   "cell_type": "code",
   "execution_count": 29,
   "id": "12b39fc0-73f4-4fa9-9b06-58d263cf99df",
   "metadata": {
    "collapsed": true,
    "jupyter": {
     "outputs_hidden": true,
     "source_hidden": true
    }
   },
   "outputs": [
    {
     "name": "stdout",
     "output_type": "stream",
     "text": [
      "(1+2j)\n",
      "<class 'complex'>\n"
     ]
    }
   ],
   "source": [
    "x=1+2j\n",
    "print(x)\n",
    "print(type(x))"
   ]
  },
  {
   "cell_type": "code",
   "execution_count": 38,
   "id": "31b126d0-1bcf-4be8-a5ac-a6d307b930c0",
   "metadata": {
    "collapsed": true,
    "jupyter": {
     "outputs_hidden": true,
     "source_hidden": true
    }
   },
   "outputs": [
    {
     "name": "stdout",
     "output_type": "stream",
     "text": [
      "43 32 -3123\n",
      "<class 'int'> 32 -3123\n"
     ]
    }
   ],
   "source": [
    "# integer values\n",
    "x1 = 43\n",
    "y1 = 32\n",
    "z1 = -3123\n",
    "print(x1,y1,z1)\n",
    "print(type(x1), (y1), (z1))"
   ]
  },
  {
   "cell_type": "code",
   "execution_count": 37,
   "id": "92e2a1a1-99f7-4ecf-a7f8-6dc9995c6535",
   "metadata": {
    "collapsed": true,
    "jupyter": {
     "outputs_hidden": true,
     "source_hidden": true
    }
   },
   "outputs": [
    {
     "name": "stdout",
     "output_type": "stream",
     "text": [
      "<class 'float'> <class 'float'> <class 'int'>\n"
     ]
    }
   ],
   "source": [
    "# float value\n",
    "x=43.5\n",
    "y=34.4\n",
    "z=24\n",
    "print(type(x), type(y), type(z))\n"
   ]
  },
  {
   "cell_type": "code",
   "execution_count": 1,
   "id": "e14bed3c-c1be-4c83-bf22-ada73ebbb423",
   "metadata": {
    "collapsed": true,
    "jupyter": {
     "outputs_hidden": true,
     "source_hidden": true
    }
   },
   "outputs": [
    {
     "name": "stdin",
     "output_type": "stream",
     "text": [
      "enter first number:  23\n",
      "enter second number:  3\n"
     ]
    },
    {
     "name": "stdout",
     "output_type": "stream",
     "text": [
      "a is bigger or equal than b\n"
     ]
    }
   ],
   "source": [
    "# how to use relational \n",
    "a=int(input(\"enter first number: \"))\n",
    "b=int(input(\"enter second number: \"))\n",
    "if(a>=b):\n",
    "    print(\"a is bigger or equal than b\")\n",
    "else:\n",
    "    print(\"b is bigger than a\")"
   ]
  },
  {
   "cell_type": "markdown",
   "id": "38c603ba-a1a9-4e38-a9f5-eedc43cd51a7",
   "metadata": {},
   "source": [
    "26 june"
   ]
  },
  {
   "cell_type": "code",
   "execution_count": 3,
   "id": "e4ad18ec-8a48-4068-98e3-b3a7dc1dd366",
   "metadata": {
    "collapsed": true,
    "jupyter": {
     "outputs_hidden": true,
     "source_hidden": true
    }
   },
   "outputs": [
    {
     "name": "stdin",
     "output_type": "stream",
     "text": [
      "enter your name:  32\n",
      "enter your number:  23\n",
      "enter your password:  3\n"
     ]
    },
    {
     "name": "stdout",
     "output_type": "stream",
     "text": [
      "wrong detail, you cannot login\n"
     ]
    }
   ],
   "source": [
    "# or operator \n",
    "x=input(\"enter your name: \")\n",
    "y=int(input(\"enter your number: \"))\n",
    "z=int(input(\"enter your password: \"))\n",
    "if ((x==\"abhi\" or y==1234) and z==789):\n",
    "    print(\"you can login\")\n",
    "else:\n",
    "    print(\"wrong detail, you cannot login\")"
   ]
  },
  {
   "cell_type": "code",
   "execution_count": 8,
   "id": "8f63fa07-1760-4c29-be95-7a9e0b1da9fa",
   "metadata": {
    "collapsed": true,
    "jupyter": {
     "outputs_hidden": true,
     "source_hidden": true
    }
   },
   "outputs": [
    {
     "name": "stdout",
     "output_type": "stream",
     "text": [
      "12.0 <class 'float'>\n",
      "2 <class 'int'>\n",
      "(3+0j) <class 'complex'>\n"
     ]
    }
   ],
   "source": [
    "#  how to convert one data type to another data type. we cant change complex number into other type\n",
    "n1=12\n",
    "n2=2.5\n",
    "n3=3\n",
    "\n",
    "# convert from int to float\n",
    "a=float(n1)\n",
    "print(a, type(a))\n",
    "\n",
    "# convert from float to int\n",
    "b=int(n2)\n",
    "print(b, type(b))\n",
    "\n",
    "# convert from int to complex\n",
    "c=complex(n3)\n",
    "print(c, type(c))"
   ]
  },
  {
   "cell_type": "code",
   "execution_count": 12,
   "id": "49ad4d1e-310c-44c2-8159-53157b6f6a4f",
   "metadata": {
    "collapsed": true,
    "jupyter": {
     "outputs_hidden": true,
     "source_hidden": true
    }
   },
   "outputs": [
    {
     "name": "stdout",
     "output_type": "stream",
     "text": [
      "this is a function example\n",
      "function is a part of python programming\n"
     ]
    }
   ],
   "source": [
    "# create function. to define the function we use def keyword\n",
    "def abhi():\n",
    "    print(\"this is a function example\")\n",
    "    print(\"function is a part of python programming\")\n",
    "# call the function for execution\n",
    "abhi()"
   ]
  },
  {
   "cell_type": "code",
   "execution_count": 4,
   "id": "65f6df7d-31df-4e39-8181-8f6203e8707f",
   "metadata": {
    "collapsed": true,
    "jupyter": {
     "outputs_hidden": true,
     "source_hidden": true
    }
   },
   "outputs": [
    {
     "name": "stdout",
     "output_type": "stream",
     "text": [
      "4\n",
      "1\n",
      "this is a multiplication function:  12\n",
      "5\n"
     ]
    }
   ],
   "source": [
    "# function \n",
    "def add():\n",
    "    print(2+2)\n",
    "def sub():\n",
    "    print(4-3)\n",
    "def multi():\n",
    "    print(\"this is a multiplication function: \",3*4)\n",
    "def divi():\n",
    "    print(10//2)\n",
    "add()\n",
    "sub()\n",
    "multi()\n",
    "divi()"
   ]
  },
  {
   "cell_type": "markdown",
   "id": "11074ae5-abfe-4793-8e41-b8498d4596e9",
   "metadata": {},
   "source": [
    "27 june (function)"
   ]
  },
  {
   "cell_type": "code",
   "execution_count": 5,
   "id": "1be6df86-585f-46a9-9c84-f1b4052bc2ea",
   "metadata": {
    "collapsed": true,
    "jupyter": {
     "outputs_hidden": true,
     "source_hidden": true
    }
   },
   "outputs": [
    {
     "name": "stdin",
     "output_type": "stream",
     "text": [
      "enter first number:  2\n",
      "enter second number:  3\n"
     ]
    },
    {
     "name": "stdout",
     "output_type": "stream",
     "text": [
      "sum is = 5\n"
     ]
    },
    {
     "name": "stdin",
     "output_type": "stream",
     "text": [
      "enter first number:  4\n",
      "enter second number:  5\n"
     ]
    },
    {
     "name": "stdout",
     "output_type": "stream",
     "text": [
      "sub is = -1\n"
     ]
    },
    {
     "name": "stdin",
     "output_type": "stream",
     "text": [
      "enter first number:  6\n",
      "enter second number:  7\n"
     ]
    },
    {
     "name": "stdout",
     "output_type": "stream",
     "text": [
      "multi is=  42\n"
     ]
    },
    {
     "name": "stdin",
     "output_type": "stream",
     "text": [
      "enter first number:  8\n",
      "enter second number:  8\n"
     ]
    },
    {
     "name": "stdout",
     "output_type": "stream",
     "text": [
      "division is=  1.0\n"
     ]
    }
   ],
   "source": [
    "# user defined function()\n",
    "def add ():\n",
    "    n1=int(input(\"enter first number: \"))\n",
    "    n2=int(input(\"enter second number: \"))\n",
    "    sum=n1+n2\n",
    "    print(\"sum is =\",sum)\n",
    "\n",
    "def sub():\n",
    "    n1=int(input(\"enter first number: \"))\n",
    "    n2=int(input(\"enter second number: \"))\n",
    "    sub=n1-n2\n",
    "    print(\"sub is =\",sub)\n",
    "    \n",
    "def mul():\n",
    "    n1=int(input(\"enter first number: \"))\n",
    "    n2=int(input(\"enter second number: \"))\n",
    "    mul=n1*n2\n",
    "    print(\"multi is= \",mul)\n",
    "\n",
    "def div():\n",
    "    n1=int(input(\"enter first number: \"))\n",
    "    n2=int(input(\"enter second number: \"))\n",
    "    div=n1/n2\n",
    "    print(\"division is= \",div)\n",
    "\n",
    "# call all function for execution()\n",
    "add()\n",
    "sub()\n",
    "mul()\n",
    "div()\n"
   ]
  },
  {
   "cell_type": "code",
   "execution_count": 8,
   "id": "75730d53-1c45-4c69-83af-be3d43f8f2ba",
   "metadata": {
    "collapsed": true,
    "jupyter": {
     "outputs_hidden": true,
     "source_hidden": true
    }
   },
   "outputs": [
    {
     "name": "stdin",
     "output_type": "stream",
     "text": [
      "enter your id:  1234\n"
     ]
    },
    {
     "name": "stdout",
     "output_type": "stream",
     "text": [
      "my student id is  1234\n"
     ]
    },
    {
     "name": "stdin",
     "output_type": "stream",
     "text": [
      "enter your name:  sdfg\n"
     ]
    },
    {
     "name": "stdout",
     "output_type": "stream",
     "text": [
      "my name is  sdfg\n"
     ]
    },
    {
     "name": "stdin",
     "output_type": "stream",
     "text": [
      "enter your teacher name:  sdfgh\n"
     ]
    },
    {
     "name": "stdout",
     "output_type": "stream",
     "text": [
      "my teacher name is  sdfgh\n"
     ]
    },
    {
     "name": "stdin",
     "output_type": "stream",
     "text": [
      "enter your course name:  fghj\n"
     ]
    },
    {
     "name": "stdout",
     "output_type": "stream",
     "text": [
      "i am doing  fghj\n"
     ]
    }
   ],
   "source": [
    "# enter id, name , course, teacher name. make all function . add concatenation\n",
    "def id():\n",
    "    id=int(input(\"enter your id: \"))\n",
    "    print(\"my student id is \",id)\n",
    "\n",
    "def name():\n",
    "    name=input(\"enter your name: \")\n",
    "    print(\"my name is \",name)\n",
    "\n",
    "def teacher():\n",
    "    teacher=input(\"enter your teacher name: \")\n",
    "    print(\"my teacher name is \",teacher)\n",
    "\n",
    "def course():\n",
    "    course=input(\"enter your course name: \")\n",
    "    print(\"i am doing \",course)\n",
    "\n",
    "id()\n",
    "name()\n",
    "teacher()\n",
    "course()\n",
    "#"
   ]
  },
  {
   "cell_type": "code",
   "execution_count": 15,
   "id": "b04755ce-b04c-42dd-96a1-e9bca3203210",
   "metadata": {
    "collapsed": true,
    "jupyter": {
     "outputs_hidden": true,
     "source_hidden": true
    }
   },
   "outputs": [
    {
     "name": "stdin",
     "output_type": "stream",
     "text": [
      "enter your id:  234\n"
     ]
    },
    {
     "name": "stdout",
     "output_type": "stream",
     "text": [
      "your id is  234\n"
     ]
    },
    {
     "name": "stdin",
     "output_type": "stream",
     "text": [
      "enter your name:  sdf\n"
     ]
    },
    {
     "name": "stdout",
     "output_type": "stream",
     "text": [
      "your name is:  sdf\n"
     ]
    },
    {
     "name": "stdin",
     "output_type": "stream",
     "text": [
      "enter your job title sdf\n"
     ]
    },
    {
     "name": "stdout",
     "output_type": "stream",
     "text": [
      "your job title is:  sdf\n"
     ]
    }
   ],
   "source": [
    "# for employee details\n",
    "def id():\n",
    "    id=int(input(\"enter your id: \"))\n",
    "    print(\"your id is \",id)\n",
    "\n",
    "def name():\n",
    "    name=input(\"enter your name: \")\n",
    "    print(\"your name is: \",name)\n",
    "\n",
    "def job_title():\n",
    "    job_title=input(\"enter your job title\")\n",
    "    print(\"your job title is: \",job_title)\n",
    "\n",
    "id()\n",
    "name()\n",
    "job_title()"
   ]
  },
  {
   "cell_type": "code",
   "execution_count": 16,
   "id": "3cc667c0-ac3f-49dc-9f0b-c00cffd92c2a",
   "metadata": {
    "collapsed": true,
    "jupyter": {
     "outputs_hidden": true,
     "source_hidden": true
    }
   },
   "outputs": [
    {
     "name": "stdout",
     "output_type": "stream",
     "text": [
      "6\n",
      "7\n",
      "8\n"
     ]
    }
   ],
   "source": [
    "# how to use return keyword with parameter function()\n",
    "def abhi(a):\n",
    "    return 4 + a\n",
    "print(abhi(2))\n",
    "print(abhi(3))\n",
    "print(abhi(4))\n",
    "\n",
    "    "
   ]
  },
  {
   "cell_type": "markdown",
   "id": "1bfddcaa-9faf-4190-94a4-ee3d10c40669",
   "metadata": {},
   "source": [
    " 1 july (list)"
   ]
  },
  {
   "cell_type": "code",
   "execution_count": 11,
   "id": "329e39f4-1108-4268-b193-1d6f4946aea1",
   "metadata": {
    "collapsed": true,
    "jupyter": {
     "outputs_hidden": true,
     "source_hidden": true
    }
   },
   "outputs": [
    {
     "name": "stdout",
     "output_type": "stream",
     "text": [
      "['abhishek', 'pankaj', 'rahul', 3, 6, 5]\n",
      "[3, 4, 5, 3, 4, 5]\n",
      "[2, 3, 4, 5]\n"
     ]
    }
   ],
   "source": [
    "#  list\n",
    "# concatenation (+)\n",
    "name=[\"abhishek\", \"pankaj\", \"rahul\"]\n",
    "number=[3,6,5]\n",
    "print(name+number)\n",
    "\n",
    "# repeat (*)\n",
    "number2=[3,4,5]\n",
    "b=number2*2\n",
    "print(b)\n",
    "\n",
    "#  range (:)\n",
    "number3=[1,2,3,4,5,6,7,8,9]\n",
    "a=number3[1:5]\n",
    "print(a)\n"
   ]
  },
  {
   "cell_type": "code",
   "execution_count": 10,
   "id": "83e276c3-0a9f-445a-85ac-248e0b4b885e",
   "metadata": {
    "collapsed": true,
    "jupyter": {
     "outputs_hidden": true,
     "source_hidden": true
    }
   },
   "outputs": [
    {
     "name": "stdout",
     "output_type": "stream",
     "text": [
      "['abhishek', 'pankaj', 'rahul']\n"
     ]
    }
   ],
   "source": [
    "# how to use standard data type ->list, tuple, set and dict\n",
    "# list\n",
    "name=[\"abhishek\",\"pankaj\",\"rahul\"]\n",
    "print(name)\n"
   ]
  },
  {
   "cell_type": "code",
   "execution_count": 17,
   "id": "9e21aa11-f3c6-4dae-8db1-b2d4e467f879",
   "metadata": {
    "collapsed": true,
    "jupyter": {
     "outputs_hidden": true,
     "source_hidden": true
    }
   },
   "outputs": [
    {
     "name": "stdout",
     "output_type": "stream",
     "text": [
      "<class 'list'>\n"
     ]
    }
   ],
   "source": [
    "# type \n",
    "name=[\"abhishek\",\"pankaj\",\"rahul\"]\n",
    "print(type(name))"
   ]
  },
  {
   "cell_type": "code",
   "execution_count": 16,
   "id": "1d350b6a-5344-48d1-8f6f-9ee844bd6dc4",
   "metadata": {
    "collapsed": true,
    "jupyter": {
     "outputs_hidden": true,
     "source_hidden": true
    }
   },
   "outputs": [
    {
     "name": "stdout",
     "output_type": "stream",
     "text": [
      "rahul\n"
     ]
    }
   ],
   "source": [
    "# index number in list\n",
    "name=[\"abhishek\",\"pankaj\",\"rahul\"]\n",
    "print(name[2])"
   ]
  },
  {
   "cell_type": "code",
   "execution_count": 15,
   "id": "6b43b9e1-c6fd-47c2-b6c7-903e35c002d6",
   "metadata": {
    "collapsed": true,
    "jupyter": {
     "outputs_hidden": true,
     "source_hidden": true
    }
   },
   "outputs": [
    {
     "name": "stdout",
     "output_type": "stream",
     "text": [
      "3\n"
     ]
    }
   ],
   "source": [
    "# length in list\n",
    "name=[\"abhishek\",\"pankaj\",\"rahul\"]\n",
    "print(len(name))"
   ]
  },
  {
   "cell_type": "code",
   "execution_count": 21,
   "id": "c3ba8882-ad4c-4209-b88a-a6dc7392a092",
   "metadata": {
    "collapsed": true,
    "jupyter": {
     "outputs_hidden": true,
     "source_hidden": true
    }
   },
   "outputs": [
    {
     "name": "stdout",
     "output_type": "stream",
     "text": [
      "['abhishek', 'pankaj', 'rahul', 'rohit']\n"
     ]
    }
   ],
   "source": [
    "#  append method in list. it always add element at end of the index\n",
    "name=[\"abhishek\",\"pankaj\",\"rahul\"]\n",
    "name.append(\"rohit\")\n",
    "print(name)"
   ]
  },
  {
   "cell_type": "code",
   "execution_count": 19,
   "id": "66ef572e-4284-4266-b3b7-f04591572155",
   "metadata": {
    "collapsed": true,
    "jupyter": {
     "outputs_hidden": true,
     "source_hidden": true
    }
   },
   "outputs": [
    {
     "name": "stdout",
     "output_type": "stream",
     "text": [
      "['abhishek', 'pankaj', 'neha', 'rahul', 'rohit']\n"
     ]
    }
   ],
   "source": [
    "# insert() method ise use to add element at selected index number like index[2]\n",
    "name=[\"abhishek\",\"pankaj\",\"rahul\",\"rohit\"]\n",
    "name.insert(2,\"neha\")\n",
    "print(name)\n"
   ]
  },
  {
   "cell_type": "code",
   "execution_count": 20,
   "id": "c434a1a1-1668-48e3-bee4-e5361181d0b4",
   "metadata": {
    "collapsed": true,
    "jupyter": {
     "outputs_hidden": true,
     "source_hidden": true
    }
   },
   "outputs": [
    {
     "name": "stdout",
     "output_type": "stream",
     "text": [
      "['abhishek', 'pankaj', 'rahul']\n"
     ]
    }
   ],
   "source": [
    "# pop method () in a list. it always delete value from end of the index number\n",
    "name=[\"abhishek\",\"pankaj\",\"rahul\",\"rohit\"]\n",
    "name.pop()\n",
    "print(name)"
   ]
  },
  {
   "cell_type": "code",
   "execution_count": 37,
   "id": "90ebc7de-461e-46d9-a964-c677b5614091",
   "metadata": {
    "collapsed": true,
    "jupyter": {
     "outputs_hidden": true,
     "source_hidden": true
    }
   },
   "outputs": [
    {
     "name": "stdout",
     "output_type": "stream",
     "text": [
      "['abhishek', 'pankaj', 'rohit']\n"
     ]
    }
   ],
   "source": [
    "# pop method with index number for deleteing the selected element. pop only take 1 value\n",
    "name=[\"abhishek\",\"pankaj\",\"rahul\",\"rohit\",\"kunal\"]\n",
    "name.pop(2)\n",
    "name.pop(3)\n",
    "print(name)"
   ]
  },
  {
   "cell_type": "code",
   "execution_count": 1,
   "id": "af18b7a2-929b-4d8f-a64a-5be038f0f708",
   "metadata": {
    "collapsed": true,
    "jupyter": {
     "outputs_hidden": true,
     "source_hidden": true
    }
   },
   "outputs": [
    {
     "name": "stdout",
     "output_type": "stream",
     "text": [
      "['abhishek', 'pankaj', 'rohit', 'kunal', 'rahul']\n",
      "['abhishek', 'pankaj', 'rohit', 'kunal']\n",
      "['abhishek', 'pankaj', 'rohit', 'kunal']\n"
     ]
    }
   ],
   "source": [
    "#  remove method. only remove first match value. rahul in this case\n",
    "name=[\"abhishek\",\"pankaj\",\"rahul\",\"rohit\",\"kunal\",\"rahul\"]\n",
    "name.remove(\"rahul\")\n",
    "print(name)\n",
    "\n",
    "# to remove rahul both time, use while loop\n",
    "name2 = [\"abhishek\", \"pankaj\", \"rahul\", \"rohit\", \"kunal\", \"rahul\"]\n",
    "while \"rahul\" in name2:\n",
    "    name2.remove(\"rahul\")\n",
    "print(name2)\n",
    "\n",
    "# another way\n",
    "name3 = [\"abhishek\", \"pankaj\", \"rahul\", \"rohit\", \"kunal\", \"rahul\"]\n",
    "name3 = [n for n in name3 if n != \"rahul\"]\n",
    "print(name3)"
   ]
  },
  {
   "cell_type": "code",
   "execution_count": 47,
   "id": "cb95d9f9-d64f-4c98-924a-0feb9fc319b5",
   "metadata": {
    "collapsed": true,
    "jupyter": {
     "outputs_hidden": true,
     "source_hidden": true
    },
    "scrolled": true
   },
   "outputs": [
    {
     "name": "stdout",
     "output_type": "stream",
     "text": [
      "['abhishek', 'kunal', 'pankaj', 'rahul', 'rohit']\n"
     ]
    }
   ],
   "source": [
    "# sort method\n",
    "name = [\"abhishek\", \"pankaj\", \"rahul\", \"rohit\", \"kunal\"]\n",
    "name.sort()\n",
    "print(name)\n"
   ]
  },
  {
   "cell_type": "code",
   "execution_count": 45,
   "id": "85a2c829-c4c9-415c-a1e7-92b43339f1a3",
   "metadata": {
    "collapsed": true,
    "jupyter": {
     "outputs_hidden": true,
     "source_hidden": true
    }
   },
   "outputs": [
    {
     "name": "stdout",
     "output_type": "stream",
     "text": [
      "['kunal', 'rohit', 'rahul', 'pankaj', 'abhishek']\n"
     ]
    }
   ],
   "source": [
    "# reverse list\n",
    "name = [\"abhishek\", \"pankaj\", \"rahul\", \"rohit\", \"kunal\"]\n",
    "name.reverse()\n",
    "print(name)"
   ]
  },
  {
   "cell_type": "code",
   "execution_count": 55,
   "id": "2bb04060-38ee-4796-a511-7e960d921889",
   "metadata": {
    "collapsed": true,
    "jupyter": {
     "outputs_hidden": true,
     "source_hidden": true
    }
   },
   "outputs": [
    {
     "name": "stdout",
     "output_type": "stream",
     "text": [
      "['pankaj']\n",
      "['abhishek', 'pankaj', 'rahul', 'rohit']\n",
      "['abhishek', 'pankaj']\n",
      "['kunal', 'rohit', 'rahul', 'pankaj', 'abhishek']\n"
     ]
    }
   ],
   "source": [
    "# slicing. it return the range of character value.\n",
    "name = [\"abhishek\", \"pankaj\", \"rahul\", \"rohit\", \"kunal\"]\n",
    "print(name[1:2])\n",
    "print(name[0:4])\n",
    "print(name[0:-3])\n",
    "print(name[::-1])   # to reverse list without using reverse function"
   ]
  },
  {
   "cell_type": "code",
   "execution_count": 40,
   "id": "fdf8f0ee-0d16-4f30-8cd1-47ca416cbcc6",
   "metadata": {
    "collapsed": true,
    "jupyter": {
     "outputs_hidden": true,
     "source_hidden": true
    }
   },
   "outputs": [
    {
     "name": "stdout",
     "output_type": "stream",
     "text": [
      "[]\n"
     ]
    }
   ],
   "source": [
    "# clear() method. to clear all\n",
    "name=[\"abhishek\",\"pankaj\",\"rahul\",\"rohit\",\"kunal\"]\n",
    "name.clear()\n",
    "print(name)"
   ]
  },
  {
   "cell_type": "code",
   "execution_count": 3,
   "id": "bd1c0a76-bd14-46fb-90a0-a2d9054c5a78",
   "metadata": {
    "collapsed": true,
    "jupyter": {
     "outputs_hidden": true,
     "source_hidden": true
    }
   },
   "outputs": [
    {
     "name": "stdout",
     "output_type": "stream",
     "text": [
      "283\n",
      "76\n",
      "2\n",
      "6\n"
     ]
    }
   ],
   "source": [
    "num=[2,54,65,34,52,76]\n",
    "print(sum(num))      # sum fucntion()\n",
    "print(max(num))      # max function()\n",
    "print(min(num))      # print(min(num))\n",
    "print(len(num))      #len function() "
   ]
  },
  {
   "cell_type": "markdown",
   "id": "dd5074af-7ea0-4dfd-897f-4f7b4f730886",
   "metadata": {},
   "source": [
    "3 july (tuple)"
   ]
  },
  {
   "cell_type": "code",
   "execution_count": 29,
   "id": "9042ec12-286f-4370-8471-e84d275db0e9",
   "metadata": {
    "collapsed": true,
    "jupyter": {
     "outputs_hidden": true,
     "source_hidden": true
    }
   },
   "outputs": [
    {
     "name": "stdout",
     "output_type": "stream",
     "text": [
      "physics\n",
      "(2, 3, 4, 5)\n"
     ]
    }
   ],
   "source": [
    "# TUPLE. tuple are immutable\n",
    "tup1=(\"physics\",\"chemsitry\",1997,2023)\n",
    "tup2=(1,2,3,4,5)\n",
    "print(tup1[0])\n",
    "print(tup2[1:5])"
   ]
  },
  {
   "cell_type": "code",
   "execution_count": 58,
   "id": "e7bd5393-4470-4bc3-9426-35e1ce20e957",
   "metadata": {
    "collapsed": true,
    "jupyter": {
     "outputs_hidden": true,
     "source_hidden": true
    }
   },
   "outputs": [
    {
     "name": "stdout",
     "output_type": "stream",
     "text": [
      "3\n",
      "(1, 2, 3, 4, 5, 6)\n",
      "hi! hi! hi! hi! \n",
      "True\n",
      "3468"
     ]
    }
   ],
   "source": [
    "t1=(1,2,3)\n",
    "print(len(t1))    # length\n",
    "\n",
    "t2=(1,2,3)\n",
    "t3=(4,5,6)\n",
    "print(t2+t3)      # concatenation\n",
    "\n",
    "t4=(\"hi! \")\n",
    "print(t4 *4)      #repitition\n",
    "\n",
    "t5=(5,4,3,6)\n",
    "print(3 in(t5))   # membership\n",
    "\n",
    "t6=(3,4,6,8)\n",
    "for x in t6:\n",
    "    print(x, end=\"\")      #iteration (loop)"
   ]
  },
  {
   "cell_type": "code",
   "execution_count": 2,
   "id": "11901123-48d5-4417-b2d5-dc3b5a1dfa6b",
   "metadata": {
    "collapsed": true,
    "jupyter": {
     "outputs_hidden": true,
     "source_hidden": true
    }
   },
   "outputs": [
    {
     "name": "stdout",
     "output_type": "stream",
     "text": [
      "('abhishek', 'pankaj', 'rahul', 'rohit', 'kunal')\n",
      "<class 'tuple'>\n",
      "rohit\n",
      "5\n"
     ]
    }
   ],
   "source": [
    "# tuple. tuple do not support clear, append, sort, pop, insert, del, update, search\n",
    "tuple=(\"abhishek\",\"pankaj\",\"rahul\",\"rohit\",\"kunal\")\n",
    "print(tuple)\n",
    "print(type(tuple))     # print type of tuple\n",
    "print(tuple[3])        # print value at index 3\n",
    "print(len(tuple))      "
   ]
  },
  {
   "cell_type": "code",
   "execution_count": 36,
   "id": "cb607fcb-aaf7-4459-840f-edbe7a360ff8",
   "metadata": {
    "collapsed": true,
    "jupyter": {
     "outputs_hidden": true,
     "source_hidden": true
    }
   },
   "outputs": [
    {
     "name": "stdout",
     "output_type": "stream",
     "text": [
      "{2, 3, 5, 'pankaj', 'abhishek'}\n",
      "<class 'set'>\n"
     ]
    }
   ],
   "source": [
    "#  create set data type. set always display random values. it doesnt have index number so remove random value\n",
    "set1= {2,5,3,\"abhishek\",\"pankaj\",\"pankaj\",5}\n",
    "print(set1)\n",
    "print(type(set1))\n",
    "# print(set1[3])    it will show error becuase set dont have index number"
   ]
  },
  {
   "cell_type": "code",
   "execution_count": 25,
   "id": "88268e89-9bf4-4d2e-87bd-a2b658b6a022",
   "metadata": {
    "collapsed": true,
    "jupyter": {
     "outputs_hidden": true,
     "source_hidden": true
    }
   },
   "outputs": [
    {
     "name": "stdout",
     "output_type": "stream",
     "text": [
      "set()\n"
     ]
    }
   ],
   "source": [
    "# clear in set\n",
    "set1= {2,5,3,\"abhishek\",\"pankaj\",\"pankaj\",5}\n",
    "set1.clear()\n",
    "print(set1)"
   ]
  },
  {
   "cell_type": "code",
   "execution_count": 26,
   "id": "d8233a1a-4033-4895-9eb3-df2fd7c590b3",
   "metadata": {
    "collapsed": true,
    "jupyter": {
     "outputs_hidden": true,
     "source_hidden": true
    }
   },
   "outputs": [
    {
     "name": "stdout",
     "output_type": "stream",
     "text": [
      "{3, 5, 'pankaj', 'abhishek'}\n"
     ]
    }
   ],
   "source": [
    "# pop\n",
    "set1= {2,5,3,\"abhishek\",\"pankaj\",\"pankaj\",5}\n",
    "set1.pop()\n",
    "print(set1)"
   ]
  },
  {
   "cell_type": "code",
   "execution_count": 2,
   "id": "9399d88a-a9c3-431b-a3d1-d96a67af99df",
   "metadata": {
    "collapsed": true,
    "jupyter": {
     "outputs_hidden": true,
     "source_hidden": true
    }
   },
   "outputs": [
    {
     "ename": "TypeError",
     "evalue": "set.pop() takes no arguments (1 given)",
     "output_type": "error",
     "traceback": [
      "\u001b[1;31m---------------------------------------------------------------------------\u001b[0m",
      "\u001b[1;31mTypeError\u001b[0m                                 Traceback (most recent call last)",
      "Cell \u001b[1;32mIn[2], line 3\u001b[0m\n\u001b[0;32m      1\u001b[0m \u001b[38;5;66;03m# pop with index number. becuase it doesn't have index number\u001b[39;00m\n\u001b[0;32m      2\u001b[0m set1\u001b[38;5;241m=\u001b[39m {\u001b[38;5;241m2\u001b[39m,\u001b[38;5;241m5\u001b[39m,\u001b[38;5;241m3\u001b[39m,\u001b[38;5;124m\"\u001b[39m\u001b[38;5;124mabhishek\u001b[39m\u001b[38;5;124m\"\u001b[39m,\u001b[38;5;124m\"\u001b[39m\u001b[38;5;124mpankaj\u001b[39m\u001b[38;5;124m\"\u001b[39m,\u001b[38;5;124m\"\u001b[39m\u001b[38;5;124mpankaj\u001b[39m\u001b[38;5;124m\"\u001b[39m,\u001b[38;5;241m5\u001b[39m}\n\u001b[1;32m----> 3\u001b[0m set1\u001b[38;5;241m.\u001b[39mpop(\u001b[38;5;241m1\u001b[39m)\n\u001b[0;32m      4\u001b[0m \u001b[38;5;28mprint\u001b[39m(set1)\n",
      "\u001b[1;31mTypeError\u001b[0m: set.pop() takes no arguments (1 given)"
     ]
    }
   ],
   "source": [
    "# pop with index number. becuase it doesn't have index number\n",
    "set1= {2,5,3,\"abhishek\",\"pankaj\",\"pankaj\",5}\n",
    "set1.pop(1)\n",
    "print(set1)"
   ]
  },
  {
   "cell_type": "code",
   "execution_count": 30,
   "id": "f5a4f18c-92c2-4d57-ae34-7644d60f845b",
   "metadata": {
    "collapsed": true,
    "jupyter": {
     "outputs_hidden": true,
     "source_hidden": true
    }
   },
   "outputs": [
    {
     "name": "stdout",
     "output_type": "stream",
     "text": [
      "{2, 3, 5, 'pankaj'}\n"
     ]
    }
   ],
   "source": [
    "# remove\n",
    "set1= {2,5,3,\"abhishek\",\"pankaj\",\"pankaj\",5}\n",
    "set1.remove(\"abhishek\")\n",
    "print(set1)"
   ]
  },
  {
   "cell_type": "markdown",
   "id": "54a024fd-df1f-4e7c-bc7d-923c94722464",
   "metadata": {},
   "source": [
    "8 july (dictionary)"
   ]
  },
  {
   "cell_type": "code",
   "execution_count": 13,
   "id": "9037f226-103e-4726-b8e9-fd1aed61c11e",
   "metadata": {
    "collapsed": true,
    "jupyter": {
     "outputs_hidden": true,
     "source_hidden": true
    }
   },
   "outputs": [
    {
     "name": "stdout",
     "output_type": "stream",
     "text": [
      "{'id': 1, 'name': 'abhishek', 'email': 'abhishek@gmail.com', 'program': 'data science', 'sem': 1, 'year': 2024, 'date of joining': '2024-05-23'}\n",
      "1\n",
      "1\n",
      "7\n",
      "<class 'dict'>\n"
     ]
    }
   ],
   "source": [
    "# dictionary. comes in key and pair value\n",
    "stu={\n",
    "    \"id\": 1,\n",
    "    \"name\": \"abhishek\",\n",
    "    \"email\": \"abhishek@gmail.com\",\n",
    "    \"program\": \"data science\",\n",
    "    \"sem\": 1,\n",
    "    \"year\": 2024,\n",
    "    \"date of joining\": \"2024-05-23\"\n",
    "}\n",
    "print(stu)                      # to see all key and value\n",
    "print(stu[\"id\"])                # to see single key value\n",
    "print(stu[\"id\"]), stu[\"name\"]   # to see 2 key value\n",
    "print(len(stu))                 # to see length\n",
    "print(type(stu))                # to see type   "
   ]
  },
  {
   "cell_type": "code",
   "execution_count": 54,
   "id": "b59faa46-7c63-439a-a09e-eb09ce5806b2",
   "metadata": {
    "collapsed": true,
    "jupyter": {
     "outputs_hidden": true,
     "source_hidden": true
    }
   },
   "outputs": [
    {
     "name": "stdout",
     "output_type": "stream",
     "text": [
      "dict_values([1, 'abhishek', 'abhishek@gmail.com', 'data science', 1, 2024])\n",
      "dict_keys(['id', 'name', 'email', 'program', 'sem', 'year'])\n"
     ]
    }
   ],
   "source": [
    "# value and key method to check in a dictionary \n",
    "stu={\n",
    "    \"id\": 1,\n",
    "    \"name\": \"abhishek\",\n",
    "    \"email\": \"abhishek@gmail.com\",\n",
    "    \"program\": \"data science\",\n",
    "    \"sem\": 1,\n",
    "    \"year\": 2024\n",
    "}\n",
    "a=stu.values()\n",
    "print(a)\n",
    "b=stu.keys()\n",
    "print(b)"
   ]
  },
  {
   "cell_type": "code",
   "execution_count": 14,
   "id": "3b3b704e-b328-457b-8428-0c7102b62560",
   "metadata": {
    "collapsed": true,
    "jupyter": {
     "outputs_hidden": true,
     "source_hidden": true
    }
   },
   "outputs": [
    {
     "name": "stdout",
     "output_type": "stream",
     "text": [
      "{'id': 1, 'name': 'pankaj', 'email': 'pankaj@gmial.com', 'city': 'dehradun', 'designation': 'accountant', 'salary': 50000, 'year of joining': '2023-05-22'}\n",
      "dict_keys(['id', 'name', 'email', 'city', 'designation', 'salary', 'year of joining'])\n",
      "dict_values([1, 'pankaj', 'pankaj@gmial.com', 'dehradun', 'accountant', 50000, '2023-05-22'])\n",
      "pankaj\n"
     ]
    },
    {
     "data": {
      "text/plain": [
       "(None, 50000)"
      ]
     },
     "execution_count": 14,
     "metadata": {},
     "output_type": "execute_result"
    }
   ],
   "source": [
    "# example of dicitonary\n",
    "emp={\n",
    "    \"id\": 1,\n",
    "    \"name\": \"pankaj\",\n",
    "    \"email\": \"pankaj@gmial.com\",\n",
    "    \"city\": \"dehradun\",\n",
    "    \"designation\": \"accountant\",\n",
    "    \"salary\" : 50000,\n",
    "    \"year of joining\" : \"2023-05-22\"    \n",
    "}\n",
    "print(emp)\n",
    "a=emp.keys()\n",
    "print(a)\n",
    "b=emp.values()\n",
    "print(b)\n",
    "print(emp[\"name\"]), emp[\"salary\"]"
   ]
  },
  {
   "cell_type": "code",
   "execution_count": 20,
   "id": "b49ff2fa-ea09-46db-a269-292709ccc4c7",
   "metadata": {
    "collapsed": true,
    "jupyter": {
     "outputs_hidden": true,
     "source_hidden": true
    }
   },
   "outputs": [
    {
     "name": "stdout",
     "output_type": "stream",
     "text": [
      "dict_items([('id', 1), ('name', 'pankaj'), ('city', 'dehradun'), ('designation', 'accountant'), ('salary', 50000)])\n"
     ]
    }
   ],
   "source": [
    "# item method in a dictionary\n",
    "emp={\n",
    "    \"id\": 1,\n",
    "    \"name\": \"pankaj\",\n",
    "    \"city\": \"dehradun\",\n",
    "    \"designation\": \"accountant\",\n",
    "    \"salary\" : 50000,\n",
    "}\n",
    "a=emp.items()\n",
    "print(a)"
   ]
  },
  {
   "cell_type": "code",
   "execution_count": 21,
   "id": "5236ee23-1160-43aa-9e56-29a70f5f587f",
   "metadata": {
    "collapsed": true,
    "jupyter": {
     "outputs_hidden": true,
     "source_hidden": true
    }
   },
   "outputs": [
    {
     "name": "stdout",
     "output_type": "stream",
     "text": [
      "{'id': 1, 'name': 'pankaj', 'city': 'dehradun', 'country': ['india']}\n"
     ]
    }
   ],
   "source": [
    "# add new key and values in dic. it only add 1 key and value at a time\n",
    "emp={\n",
    "    \"id\": 1,\n",
    "    \"name\": \"pankaj\",\n",
    "    \"city\": \"dehradun\",\n",
    "}\n",
    "emp[\"country\"]=[\"india\"]\n",
    "print(emp)"
   ]
  },
  {
   "cell_type": "code",
   "execution_count": 27,
   "id": "491c46cf-260f-495e-a2ce-f688ffc02b63",
   "metadata": {
    "collapsed": true,
    "jupyter": {
     "outputs_hidden": true,
     "source_hidden": true
    }
   },
   "outputs": [
    {
     "name": "stdout",
     "output_type": "stream",
     "text": [
      "{'id': 1, 'name': 'pankaj', 'designation': 'accountant', 'salary': 50000}\n"
     ]
    }
   ],
   "source": [
    "# pop method to delete key and value\n",
    "emp={\n",
    "    \"id\": 1,\n",
    "    \"name\": \"pankaj\",\n",
    "    \"city\": \"dehradun\",\n",
    "    \"designation\": \"accountant\",\n",
    "    \"salary\" : 50000\n",
    "}\n",
    "a=emp.pop(\"city\")\n",
    "print(emp)"
   ]
  },
  {
   "cell_type": "code",
   "execution_count": 29,
   "id": "812882a9-5f41-49ae-86f3-2c5a7569815b",
   "metadata": {
    "collapsed": true,
    "jupyter": {
     "outputs_hidden": true,
     "source_hidden": true
    }
   },
   "outputs": [
    {
     "name": "stdout",
     "output_type": "stream",
     "text": [
      "{'id': 1, 'name': 'pankaj', 'city': 'dehradun', 'designation': 'accountant', 'salary': 39999}\n"
     ]
    }
   ],
   "source": [
    "# update method to update key and value\n",
    "emp={\n",
    "    \"id\": 1,\n",
    "    \"name\": \"pankaj\",\n",
    "    \"city\": \"dehradun\",\n",
    "    \"designation\": \"accountant\",\n",
    "    \"salary\" : 50000  \n",
    "}\n",
    "emp.update({\"salary\":39999})\n",
    "print(emp)"
   ]
  },
  {
   "cell_type": "code",
   "execution_count": 33,
   "id": "2f20d164-fd9c-4541-80ae-43a6145d47a1",
   "metadata": {
    "collapsed": true,
    "jupyter": {
     "outputs_hidden": true,
     "source_hidden": true
    }
   },
   "outputs": [
    {
     "name": "stdout",
     "output_type": "stream",
     "text": [
      "{}\n"
     ]
    }
   ],
   "source": [
    "# clear method in a disc\n",
    "emp={\n",
    "    \"id\": 1,\n",
    "    \"name\": \"pankaj\",\n",
    "    \"city\": \"dehradun\",\n",
    "    \"designation\": \"accountant\",\n",
    "    \"salary\" : 50000,\n",
    "}\n",
    "emp.clear()\n",
    "print(emp)"
   ]
  },
  {
   "cell_type": "code",
   "execution_count": 36,
   "id": "3e361a11-e31b-4da0-8eee-bb908924bee5",
   "metadata": {
    "collapsed": true,
    "jupyter": {
     "outputs_hidden": true,
     "source_hidden": true
    }
   },
   "outputs": [
    {
     "name": "stdout",
     "output_type": "stream",
     "text": [
      "{'id': 1, 'name': 'pankaj', 'city': 'dehradun', 'designation': 'accountant'}\n"
     ]
    }
   ],
   "source": [
    "# delete method. del is a operator not a fucntion, because we dont use parantheisis in it\n",
    "emp={\n",
    "    \"id\": 1,\n",
    "    \"name\": \"pankaj\",\n",
    "    \"city\": \"dehradun\",\n",
    "    \"designation\": \"accountant\",\n",
    "    \"salary\" : 50000  \n",
    "}\n",
    "del emp[\"salary\"]\n",
    "print(emp)"
   ]
  },
  {
   "cell_type": "code",
   "execution_count": 40,
   "id": "fcf33709-14c8-49e4-9f2b-c4c6193601c8",
   "metadata": {
    "collapsed": true,
    "jupyter": {
     "outputs_hidden": true,
     "source_hidden": true
    }
   },
   "outputs": [
    {
     "name": "stdout",
     "output_type": "stream",
     "text": [
      "{'id': 1, 'name': 'pankaj', 'city': 'dehradun', 'designation': 'accountant'}\n"
     ]
    }
   ],
   "source": [
    "#  popitem method. remove last value\n",
    "emp={\n",
    "    \"id\": 1,\n",
    "    \"name\": \"pankaj\",\n",
    "    \"city\": \"dehradun\",\n",
    "    \"designation\": \"accountant\",\n",
    "    \"salary\" : 50000  \n",
    "}\n",
    "emp.popitem()\n",
    "print(emp)"
   ]
  },
  {
   "cell_type": "code",
   "execution_count": 59,
   "id": "c8b0e21a-8674-41ab-9c68-3103c1ceeff1",
   "metadata": {
    "collapsed": true,
    "jupyter": {
     "outputs_hidden": true,
     "source_hidden": true
    }
   },
   "outputs": [
    {
     "name": "stdout",
     "output_type": "stream",
     "text": [
      "{'id': 1, 'name': 'pankaj', 'city': 'dehradun', 'salary': 50000}\n",
      "<class 'dict'>\n",
      "4\n",
      "{'id': 1, 'name': 'pankaj', 'city': 'dehradun'}\n",
      "dict_keys(['id', 'name', 'city'])\n",
      "dict_values([1, 'pankaj', 'dehradun'])\n"
     ]
    }
   ],
   "source": [
    "# try all dic funtion, update, delete, pop, popitem, \n",
    "emp={\n",
    "    \"id\": 1,\n",
    "    \"name\": \"pankaj\",\n",
    "    \"city\": \"dehradun\",\n",
    "    \"salary\" : 50000  \n",
    "}\n",
    "print(emp)\n",
    "print(type(emp))\n",
    "print(len(emp))\n",
    "\n",
    "emp.popitem()\n",
    "print(emp)\n",
    "\n",
    "a=emp.keys()\n",
    "print(a)\n",
    "b=emp.values()\n",
    "print(b)\n",
    "\n",
    "\n",
    "# del emp\n",
    "# c = emp.update[\"name\"]=[\"rohit\"]\n",
    "# print(c)"
   ]
  },
  {
   "cell_type": "markdown",
   "id": "6885d0c9-a42f-4a9e-bbb0-c10147e0ea06",
   "metadata": {},
   "source": [
    "9 july (for loop)"
   ]
  },
  {
   "cell_type": "code",
   "execution_count": 65,
   "id": "80b22bde-19a3-47cd-8604-494bcac30deb",
   "metadata": {
    "collapsed": true,
    "jupyter": {
     "outputs_hidden": true,
     "source_hidden": true
    }
   },
   "outputs": [],
   "source": [
    "# # LOOPS\n",
    "# -----------------------------------------------------------\n",
    "# Unarry(single) operator\n",
    "# a). ++ pre-increment (++a) and post-increment(a++)\n",
    "# b). -- pre-decrement (--a) and post-decrement(a--)\n",
    "\n",
    "#  -----------------------------------------------------------                                       \n",
    "# for loop\n",
    "# input \n",
    "# int a \n",
    "# for (a=1, a=<3, a++):\n",
    "#     print(\"hi\")\n",
    "\n",
    "# output\n",
    "# hi\n",
    "# hi\n",
    "# hi\n",
    "# -------------------------------------------------------------\n",
    "# while loop  (while loop run as long as condition is true, do while loop run atleast one time, even if condition is false)\n",
    "# a = 1\n",
    "# whille(a<=3)\n",
    "# a++"
   ]
  },
  {
   "cell_type": "code",
   "execution_count": 4,
   "id": "5fb63e4b-6871-447a-b155-80990056194d",
   "metadata": {
    "collapsed": true,
    "jupyter": {
     "outputs_hidden": true,
     "source_hidden": true
    }
   },
   "outputs": [
    {
     "name": "stdout",
     "output_type": "stream",
     "text": [
      "a\n",
      "b\n",
      "h\n",
      "i\n"
     ]
    }
   ],
   "source": [
    "# for loops. we use in keyword. in keyword show list of values\n",
    "name=\"abhi\"\n",
    "for i in name:\n",
    "    print(i)"
   ]
  },
  {
   "cell_type": "code",
   "execution_count": 7,
   "id": "c5cb21ae-8fe0-4c05-bf43-2d42879d5008",
   "metadata": {
    "collapsed": true,
    "jupyter": {
     "outputs_hidden": true,
     "source_hidden": true
    }
   },
   "outputs": [
    {
     "name": "stdout",
     "output_type": "stream",
     "text": [
      "0\n",
      "1\n",
      "2\n",
      "3\n",
      "4\n"
     ]
    }
   ],
   "source": [
    "# range function using for loop\n",
    "for i in range(5):\n",
    "    print(i)"
   ]
  },
  {
   "cell_type": "code",
   "execution_count": 8,
   "id": "c07c413b-eab9-44e8-9ea7-eb2110c1df3b",
   "metadata": {
    "collapsed": true,
    "jupyter": {
     "outputs_hidden": true,
     "source_hidden": true
    }
   },
   "outputs": [
    {
     "name": "stdout",
     "output_type": "stream",
     "text": [
      "1\n",
      "2\n",
      "3\n",
      "4\n",
      "5\n"
     ]
    }
   ],
   "source": [
    "# range function using for loop\n",
    "for i in range(5):\n",
    "    print(i+1)"
   ]
  },
  {
   "cell_type": "code",
   "execution_count": 1,
   "id": "cd8f3d95-648b-472d-a2b5-226a62e3779c",
   "metadata": {
    "collapsed": true,
    "jupyter": {
     "outputs_hidden": true,
     "source_hidden": true
    }
   },
   "outputs": [
    {
     "name": "stdout",
     "output_type": "stream",
     "text": [
      "abhishek\n",
      "abhishek\n",
      "abhishek\n"
     ]
    }
   ],
   "source": [
    "#print name using for loop \n",
    "name=\"abhishek\"\n",
    "for i in range(3):\n",
    "    print(name)"
   ]
  },
  {
   "cell_type": "code",
   "execution_count": 20,
   "id": "30306673-03e9-4d75-91f1-8256cc7516af",
   "metadata": {
    "collapsed": true,
    "jupyter": {
     "outputs_hidden": true,
     "source_hidden": true
    }
   },
   "outputs": [
    {
     "name": "stdout",
     "output_type": "stream",
     "text": [
      "\n",
      " abhishek\n",
      " abhishek\n",
      " abhishek\n"
     ]
    }
   ],
   "source": [
    "# print name without loop\n",
    "print(\"\\n abhishek\" * 3)"
   ]
  },
  {
   "cell_type": "code",
   "execution_count": 1,
   "id": "e9141f77-3ef2-475e-8fc7-cb47fd6020bd",
   "metadata": {
    "collapsed": true,
    "jupyter": {
     "outputs_hidden": true,
     "source_hidden": true
    }
   },
   "outputs": [
    {
     "name": "stdout",
     "output_type": "stream",
     "text": [
      "abhishek abhishek abhishek abhishek abhishek \n"
     ]
    }
   ],
   "source": [
    "#  print name without loop\n",
    "print(\"\"\"abhishek \"\"\" * 5)"
   ]
  },
  {
   "cell_type": "code",
   "execution_count": 19,
   "id": "a51d94ef-be2e-4a51-934e-e6e542146337",
   "metadata": {
    "collapsed": true,
    "jupyter": {
     "outputs_hidden": true,
     "source_hidden": true
    }
   },
   "outputs": [
    {
     "name": "stdout",
     "output_type": "stream",
     "text": [
      "\n",
      "5\n",
      "5\n",
      "5\n"
     ]
    }
   ],
   "source": [
    "# dislplay number without loop\n",
    "print(\"\\n5\" * 3)"
   ]
  },
  {
   "cell_type": "code",
   "execution_count": 26,
   "id": "038eb059-e7b5-4cf7-89cd-ec77fef58705",
   "metadata": {
    "collapsed": true,
    "jupyter": {
     "outputs_hidden": true,
     "source_hidden": true
    }
   },
   "outputs": [
    {
     "name": "stdout",
     "output_type": "stream",
     "text": [
      "1 2 3 4 5 6 7 8 9 10\n"
     ]
    }
   ],
   "source": [
    "# display numbers without using loop \n",
    "num=range(1,11)\n",
    "print(*num)"
   ]
  },
  {
   "cell_type": "code",
   "execution_count": 31,
   "id": "874a12e5-308a-4f28-8164-9e14b629c5d3",
   "metadata": {
    "collapsed": true,
    "jupyter": {
     "outputs_hidden": true,
     "source_hidden": true
    }
   },
   "outputs": [
    {
     "name": "stdin",
     "output_type": "stream",
     "text": [
      "enter the number:  7\n"
     ]
    },
    {
     "name": "stdout",
     "output_type": "stream",
     "text": [
      "7 * 1 is 7\n",
      "7 * 2 is 14\n",
      "7 * 3 is 21\n",
      "7 * 4 is 28\n",
      "7 * 5 is 35\n",
      "7 * 6 is 42\n",
      "7 * 7 is 49\n",
      "7 * 8 is 56\n",
      "7 * 9 is 63\n",
      "7 * 10 is 70\n"
     ]
    }
   ],
   "source": [
    "# mulitple of 2 using for loop\n",
    "n=int(input(\"enter the number: \"))\n",
    "for i in range(1,11):\n",
    "    print(f\"{n} * {i} is {n*i}\")"
   ]
  },
  {
   "cell_type": "code",
   "execution_count": 7,
   "id": "e26f10ca-74b8-4aaf-b046-03ebc747ddba",
   "metadata": {
    "collapsed": true,
    "jupyter": {
     "outputs_hidden": true,
     "source_hidden": true
    }
   },
   "outputs": [
    {
     "name": "stdout",
     "output_type": "stream",
     "text": [
      "5\n",
      "this is in reverse\n",
      "4\n",
      "this is in reverse\n",
      "3\n",
      "this is in reverse\n",
      "2\n",
      "this is in reverse\n",
      "1\n",
      "this is in reverse\n"
     ]
    }
   ],
   "source": [
    "#  while loop\n",
    "var=5\n",
    "while var >0:\n",
    "    print(var)\n",
    "    var=var-1\n",
    "    print(\"this is in reverse\")"
   ]
  },
  {
   "cell_type": "code",
   "execution_count": 2,
   "id": "fd14f88c-5724-4c23-bafd-e42de21b85c8",
   "metadata": {
    "collapsed": true,
    "jupyter": {
     "outputs_hidden": true,
     "source_hidden": true
    }
   },
   "outputs": [
    {
     "name": "stdin",
     "output_type": "stream",
     "text": [
      "enter number:  3\n"
     ]
    },
    {
     "name": "stdout",
     "output_type": "stream",
     "text": [
      "3 * 1 is 3\n",
      "3 * 2 is 6\n",
      "3 * 3 is 9\n",
      "3 * 4 is 12\n",
      "3 * 5 is 15\n",
      "3 * 6 is 18\n",
      "3 * 7 is 21\n",
      "3 * 8 is 24\n",
      "3 * 9 is 27\n",
      "3 * 10 is 30\n"
     ]
    }
   ],
   "source": [
    "# table using while loop\n",
    "n=int(input(\"enter number: \"))\n",
    "i=0\n",
    "while i in range(10):\n",
    "    i+=1\n",
    "    print(f\"{n} * {i} is {n*i}\")"
   ]
  },
  {
   "cell_type": "code",
   "execution_count": 11,
   "id": "78ec7333-406a-4221-bcb8-a76c88065352",
   "metadata": {
    "collapsed": true,
    "jupyter": {
     "outputs_hidden": true,
     "source_hidden": true
    }
   },
   "outputs": [
    {
     "name": "stdin",
     "output_type": "stream",
     "text": [
      "enter number:  4\n"
     ]
    },
    {
     "name": "stdout",
     "output_type": "stream",
     "text": [
      "4\n",
      "8\n",
      "12\n",
      "16\n",
      "20\n",
      "24\n",
      "28\n",
      "32\n",
      "36\n",
      "40\n"
     ]
    }
   ],
   "source": [
    "# table using while loop\n",
    "n=int(input(\"enter number: \"))\n",
    "i=1\n",
    "while (i<=10):\n",
    "    print(n*i)\n",
    "    i+=1"
   ]
  },
  {
   "cell_type": "markdown",
   "id": "95d4ea1c-56c2-4a14-b283-e2584a7888fb",
   "metadata": {},
   "source": [
    "10 july (break and continue)"
   ]
  },
  {
   "cell_type": "code",
   "execution_count": null,
   "id": "5f8e69c4-dfbd-41c6-9d86-c9344cfa4dfa",
   "metadata": {
    "collapsed": true,
    "jupyter": {
     "outputs_hidden": true,
     "source_hidden": true
    }
   },
   "outputs": [],
   "source": [
    "# break\n",
    "n=1\n",
    "while(n<10):\n",
    "    print(n)\n",
    "    if(n==3):\n",
    "        break\n",
    "    n=n+1"
   ]
  },
  {
   "cell_type": "code",
   "execution_count": 14,
   "id": "1080873f-2df0-4e19-8952-d1834eae3de4",
   "metadata": {
    "collapsed": true,
    "jupyter": {
     "outputs_hidden": true,
     "source_hidden": true
    }
   },
   "outputs": [
    {
     "name": "stdout",
     "output_type": "stream",
     "text": [
      "1\n",
      "2\n",
      "4\n",
      "5\n",
      "6\n",
      "7\n",
      "8\n",
      "9\n"
     ]
    }
   ],
   "source": [
    "# continue. it was not working , i had to use chatgpt. its now using increment 2 times to avoid infinite loop\n",
    "n=1\n",
    "while(n<10):\n",
    "    if(n==3):\n",
    "        n+=1\n",
    "        continue\n",
    "    print(n)\n",
    "    n+=1"
   ]
  },
  {
   "cell_type": "code",
   "execution_count": 13,
   "id": "85e06609-18a4-463c-813d-d2d981bca660",
   "metadata": {
    "collapsed": true,
    "jupyter": {
     "outputs_hidden": true,
     "source_hidden": true
    }
   },
   "outputs": [
    {
     "name": "stdout",
     "output_type": "stream",
     "text": [
      "abhi\n",
      "abhi\n",
      "abhi\n",
      "abhi\n",
      "abhi\n"
     ]
    }
   ],
   "source": [
    "# break\n",
    "i=1\n",
    "while i<10:\n",
    "    print(\"abhi\")\n",
    "    if(i==5):\n",
    "        break\n",
    "    i=i+1"
   ]
  },
  {
   "cell_type": "code",
   "execution_count": 16,
   "id": "87494a33-151f-4b30-806d-b3a575082163",
   "metadata": {
    "collapsed": true,
    "jupyter": {
     "outputs_hidden": true,
     "source_hidden": true
    }
   },
   "outputs": [
    {
     "name": "stdout",
     "output_type": "stream",
     "text": [
      "0\n",
      "1\n",
      "2\n",
      "3\n",
      "4\n",
      "5\n",
      "-----------continue-------------\n",
      "0\n",
      "1\n",
      "2\n",
      "3\n",
      "4\n",
      "5\n",
      "6\n",
      "7\n",
      "8\n",
      "9\n"
     ]
    }
   ],
   "source": [
    "# this is from code with harry. learn from it\n",
    "# break and continue. # print i can be written after for and break both.\n",
    "# break\n",
    "for i in range(10):\n",
    "    # print(i)     # output from 0 to 6\n",
    "    if i==6:\n",
    "        break   #exit loop here\n",
    "    print(i)               # output from 0 to 5\n",
    "print(\"-----------continue-------------\")\n",
    "# continue\n",
    "for j in range(10):\n",
    "    print(j)\n",
    "    if(j==4):\n",
    "        continue"
   ]
  },
  {
   "cell_type": "code",
   "execution_count": 8,
   "id": "9e4e5e21-de87-499d-87c6-91ecf8934a8b",
   "metadata": {
    "collapsed": true,
    "jupyter": {
     "outputs_hidden": true,
     "source_hidden": true
    }
   },
   "outputs": [
    {
     "name": "stdout",
     "output_type": "stream",
     "text": [
      "1\n",
      "2\n",
      "4\n",
      "5\n",
      "6\n",
      "7\n",
      "8\n",
      "9\n",
      "10\n"
     ]
    }
   ],
   "source": [
    "#continue \n",
    "n = 1\n",
    "while n <= 10:\n",
    "    if n == 3:\n",
    "        n += 1  # Increment n to avoid infinite loop\n",
    "        continue\n",
    "    print(n)\n",
    "    n += 1\n"
   ]
  },
  {
   "cell_type": "code",
   "execution_count": 20,
   "id": "d37caf40-b0d6-4f60-886e-5341229b5e07",
   "metadata": {
    "collapsed": true,
    "jupyter": {
     "outputs_hidden": true,
     "source_hidden": true
    }
   },
   "outputs": [
    {
     "name": "stdout",
     "output_type": "stream",
     "text": [
      "red\n",
      "r\n",
      "e\n",
      "d\n",
      "green\n",
      "g\n",
      "r\n",
      "e\n",
      "e\n",
      "n\n"
     ]
    }
   ],
   "source": [
    "# how to crete nested for loop using list\n",
    "colors=[\"red\", \"green\"]\n",
    "for color in colors:\n",
    "    print(color)\n",
    "    for i in color:\n",
    "        print(i)"
   ]
  },
  {
   "cell_type": "markdown",
   "id": "78d5dca7-a0e5-4651-b0f5-162a6a55cd5c",
   "metadata": {},
   "source": [
    "15 july (for loop)"
   ]
  },
  {
   "cell_type": "code",
   "execution_count": 9,
   "id": "30db2127-85d1-4b51-99fe-12d287b2a7db",
   "metadata": {
    "collapsed": true,
    "jupyter": {
     "outputs_hidden": true,
     "source_hidden": true
    }
   },
   "outputs": [
    {
     "name": "stdout",
     "output_type": "stream",
     "text": [
      "1 1\n",
      "2 8\n",
      "3 27\n",
      "4 64\n",
      "5 125\n",
      "6 216\n",
      "7 343\n",
      "8 512\n",
      "9 729\n",
      "10 1000\n"
     ]
    }
   ],
   "source": [
    "# print first 10 integer and their cube usign for loop. \n",
    "n=1\n",
    "for n in range(1,11):\n",
    "    print(n, n*n*n)\n",
    "    n+=1"
   ]
  },
  {
   "cell_type": "code",
   "execution_count": 6,
   "id": "fb12a41c-5fd4-46d8-88ea-7a1a2825c474",
   "metadata": {
    "collapsed": true,
    "jupyter": {
     "outputs_hidden": true,
     "source_hidden": true
    }
   },
   "outputs": [
    {
     "name": "stdout",
     "output_type": "stream",
     "text": [
      "1 1\n",
      "2 4\n",
      "3 9\n",
      "4 16\n",
      "5 25\n",
      "6 36\n",
      "7 49\n",
      "8 64\n",
      "9 81\n",
      "10 100\n"
     ]
    }
   ],
   "source": [
    "# print first 10 integer and their square usign while loop.\n",
    "n=1\n",
    "while n<=10:\n",
    "    print(n, n*n)\n",
    "    n+=1"
   ]
  },
  {
   "cell_type": "code",
   "execution_count": 20,
   "id": "e2b71d45-47f6-4441-a93b-1d0361916d65",
   "metadata": {
    "collapsed": true,
    "jupyter": {
     "outputs_hidden": true,
     "source_hidden": true
    }
   },
   "outputs": [
    {
     "name": "stdout",
     "output_type": "stream",
     "text": [
      "    * \n",
      "   * * \n",
      "  * * * \n",
      " * * * * \n",
      "* * * * * \n"
     ]
    }
   ],
   "source": [
    "# patterns. \n",
    "n=5\n",
    "for i in range(n):\n",
    "    for j in range(n-i-1):       # this is for row\n",
    "        print(\"\", end=\" \")       # giving space inside end=\"\" will change the output\n",
    "    for j in range(i+1):         # this is for column\n",
    "        print(\"*\", end=\" \")      # giving space inside end=\"\" will change the output\n",
    "    print()"
   ]
  },
  {
   "cell_type": "code",
   "execution_count": 24,
   "id": "6f10f730-6fe7-4cef-bc00-5ab70c88f8dd",
   "metadata": {
    "collapsed": true,
    "jupyter": {
     "outputs_hidden": true,
     "source_hidden": true
    }
   },
   "outputs": [
    {
     "name": "stdout",
     "output_type": "stream",
     "text": [
      "* * * * * \n",
      " * * * * \n",
      "  * * * \n",
      "   * * \n",
      "    * \n"
     ]
    }
   ],
   "source": [
    "# now reverse the above \n",
    "n=5\n",
    "for i in range(n):\n",
    "    for j in range(i):\n",
    "        print(\"\", end=\" \")  \n",
    "    for j in range(n-i):\n",
    "        print(\"*\", end=\" \")    \n",
    "    print()"
   ]
  },
  {
   "cell_type": "code",
   "execution_count": 29,
   "id": "ee600e51-3011-47a3-82f3-a24a0addf817",
   "metadata": {
    "collapsed": true,
    "jupyter": {
     "outputs_hidden": true,
     "source_hidden": true
    }
   },
   "outputs": [
    {
     "name": "stdout",
     "output_type": "stream",
     "text": [
      "    * \n",
      "   * * \n",
      "  * * * \n",
      " * * * * \n",
      "* * * * * \n",
      "* * * * * \n",
      " * * * * \n",
      "  * * * \n",
      "   * * \n",
      "    * \n"
     ]
    }
   ],
   "source": [
    "# join above 2. merge the above 2 code together\n",
    "n=5\n",
    "for i in range(n):\n",
    "    for j in range(n-i-1):       \n",
    "        print(\"\", end=\" \")       \n",
    "    for j in range(i+1):         \n",
    "        print(\"*\", end=\" \")     \n",
    "    print()\n",
    "\n",
    "n=5\n",
    "for i in range(n):\n",
    "    for j in range(i):\n",
    "        print(\"\", end=\" \")  \n",
    "    for j in range(n-i):\n",
    "        print(\"*\", end=\" \")    \n",
    "    print()"
   ]
  },
  {
   "cell_type": "code",
   "execution_count": 15,
   "id": "8c3c700c-21a3-486e-a846-b05f4086aa05",
   "metadata": {
    "collapsed": true,
    "jupyter": {
     "outputs_hidden": true,
     "source_hidden": true
    }
   },
   "outputs": [
    {
     "name": "stdout",
     "output_type": "stream",
     "text": [
      "* * * * * \n",
      "* * * * * \n",
      "* * * * * \n",
      "* * * * * \n",
      "* * * * * \n"
     ]
    }
   ],
   "source": [
    "# pattern from youtube class 1.\n",
    "n=5\n",
    "for j in range(n):\n",
    "    for i in range(n):\n",
    "        print(\"*\",end=\" \")\n",
    "    print()"
   ]
  },
  {
   "cell_type": "code",
   "execution_count": 17,
   "id": "0ee7bad5-8056-4a8e-a8a9-01ae4463e947",
   "metadata": {
    "collapsed": true,
    "jupyter": {
     "outputs_hidden": true,
     "source_hidden": true
    }
   },
   "outputs": [
    {
     "name": "stdout",
     "output_type": "stream",
     "text": [
      "* \n",
      "* * \n",
      "* * * \n",
      "* * * * \n",
      "* * * * * \n"
     ]
    }
   ],
   "source": [
    "# pattern from youtube class 2.\n",
    "# increasing order\n",
    "n=5\n",
    "for i in range(n):\n",
    "    for j in range(i+1):\n",
    "        print(\"*\",end=\" \")\n",
    "    print()"
   ]
  },
  {
   "cell_type": "code",
   "execution_count": 18,
   "id": "ed2434d5-e7db-487f-a891-ebfb767de82a",
   "metadata": {
    "collapsed": true,
    "jupyter": {
     "outputs_hidden": true,
     "source_hidden": true
    }
   },
   "outputs": [
    {
     "name": "stdout",
     "output_type": "stream",
     "text": [
      "* * * * * \n",
      "* * * * \n",
      "* * * \n",
      "* * \n",
      "* \n"
     ]
    }
   ],
   "source": [
    "# pattern from youtube class 3.\n",
    "# decreasing order\n",
    "n=5\n",
    "for i in range(n):\n",
    "    for j in range(i,n):\n",
    "        print(\"*\", end=\" \")\n",
    "    print()"
   ]
  },
  {
   "cell_type": "code",
   "execution_count": 1,
   "id": "440253b9-686f-448a-83f7-dfd8e8e84d33",
   "metadata": {
    "collapsed": true,
    "jupyter": {
     "outputs_hidden": true,
     "source_hidden": true
    }
   },
   "outputs": [
    {
     "name": "stdout",
     "output_type": "stream",
     "text": [
      "* \n",
      "* * \n",
      "* * * \n",
      "* * * * \n",
      "* * * * * \n"
     ]
    }
   ],
   "source": [
    "# pattern. increasing order\n",
    "n=5\n",
    "for i in range(n):\n",
    "    for j in range(i,n):\n",
    "        print(\"\",end=\"\")\n",
    "    for j in range(i+1):\n",
    "        print(\"*\",end=\" \")\n",
    "    print()"
   ]
  },
  {
   "cell_type": "markdown",
   "id": "97aa3601-5673-4518-9939-b28c0ad604fb",
   "metadata": {},
   "source": [
    "18 july (oops theory)"
   ]
  },
  {
   "cell_type": "code",
   "execution_count": null,
   "id": "8044bea9-3907-49c9-9cfe-6fb1291aaaab",
   "metadata": {
    "collapsed": true,
    "jupyter": {
     "outputs_hidden": true,
     "source_hidden": true
    }
   },
   "outputs": [],
   "source": [
    "''' OOPS (object oriented programming system)\n",
    "object is a instance of class.\n",
    "object = class,  class = object\n",
    "there are 3 property for objects-\n",
    "1-State, 2-Behaviour, 3-Identity.  (SBI)\n",
    "\n",
    "PILLARS OF OOPS-\n",
    "1-Polymorphism, 2-Inheritance, 3-Abstraction, 4-Encapsulation.\n",
    "\n",
    "1. POLYMORPHISM = poly (many) + morphism (form) = many form\n",
    "polymorphism types -> \n",
    "a) Function Overloading or Static -> function name will be same but no of parameter will be different. for eg:-\n",
    "\n",
    "def abhi(int, float, str)\n",
    "    print(\"hey\")\n",
    "\n",
    "def abhi(int, str):\n",
    "    print(\"welcome\")\n",
    "\n",
    "def abhi(float, int):\n",
    "    print(\"\")\n",
    "\n",
    "b) Function Overriding or Dynamic -> \n",
    "\n",
    "2. INHERITANCE\n",
    "a) Parent class  (super class)\n",
    "b) Child class   (sub class)\n",
    "\n",
    "Types of inheritance (Python do not support type) -> Single Level and Multi Level.\n",
    "advantage of Inheritance - reuse the object\n",
    "class parent\n",
    "class child\n",
    "\n",
    "3. ABSTRACTION - showing essential things\n",
    "4. ENCAPSULATION - Not showing essential things\n",
    "'''"
   ]
  },
  {
   "cell_type": "markdown",
   "id": "bd1b60a5-549f-43c1-a9f4-d4db6f59e73a",
   "metadata": {},
   "source": [
    "22 July (class, super)"
   ]
  },
  {
   "cell_type": "code",
   "execution_count": 8,
   "id": "2ab144c7-f7e0-4d92-a24c-932ddedab367",
   "metadata": {
    "collapsed": true,
    "jupyter": {
     "outputs_hidden": true,
     "source_hidden": true
    },
    "scrolled": true
   },
   "outputs": [
    {
     "name": "stdout",
     "output_type": "stream",
     "text": [
      "E001 abhishek 6873\n"
     ]
    }
   ],
   "source": [
    "# create class and object of the class\n",
    "# for creating class we have to use class keyword\n",
    "# __init__()method\n",
    "# self-use with variable and attributes \n",
    "class Employee:\n",
    "    def __init__(self, E_id, E_name, E_salary):\n",
    "        self.E_id=E_id\n",
    "        self.E_name=E_name\n",
    "        self.E_salary=E_salary\n",
    "\n",
    "# how to create object of the class.\n",
    "E=Employee(\"E001\", \"abhishek\", 6873)\n",
    "print(E.E_id, E.E_name, E.E_salary)"
   ]
  },
  {
   "cell_type": "code",
   "execution_count": 12,
   "id": "205c91ea-b851-422f-864c-c78f46db060c",
   "metadata": {
    "collapsed": true,
    "jupyter": {
     "outputs_hidden": true,
     "source_hidden": true
    },
    "scrolled": true
   },
   "outputs": [
    {
     "name": "stdout",
     "output_type": "stream",
     "text": [
      "S001 abhishek data-sceince 3244\n"
     ]
    }
   ],
   "source": [
    "# STUDENT CLASS\n",
    "class Student:\n",
    "    def __init__(self, s_id, s_name, s_course, s_fees):\n",
    "        self.s_id=s_id\n",
    "        self.s_name=s_name\n",
    "        self.s_course=s_course\n",
    "        self.s_fees=s_fees\n",
    "\n",
    "s=Student(\"S001\", \"abhishek\", \"data-sceince\", 3244)\n",
    "print(s.s_id, s.s_name, s.s_course, s.s_fees)"
   ]
  },
  {
   "cell_type": "code",
   "execution_count": 15,
   "id": "e8197763-9cad-4a79-8cb0-1dce80e27712",
   "metadata": {
    "collapsed": true,
    "jupyter": {
     "outputs_hidden": true,
     "source_hidden": true
    },
    "scrolled": true
   },
   "outputs": [
    {
     "name": "stdout",
     "output_type": "stream",
     "text": [
      "Audi 200KM/H Red A4\n"
     ]
    }
   ],
   "source": [
    "# Super() mehtod. it will help, when child class inherit the property from parent class \n",
    "class Car:\n",
    "    def __init__(self, name, speed, color, series):\n",
    "        self.name=name\n",
    "        self.speed=speed\n",
    "        self.color=color\n",
    "        self.series=series\n",
    "        \n",
    "    def display(self):\n",
    "        print(self.name, self.speed, self.color, self.series)\n",
    "# create a child class\n",
    "class Audi(Car):\n",
    "    def __init__(self, name, speed, color, series):\n",
    "            super().__init__(name, speed, color, series)\n",
    "C1=Audi(\"Audi\", \"200KM/H\", \"Red\", \"A4\")\n",
    "C1.display()\n"
   ]
  },
  {
   "cell_type": "code",
   "execution_count": 1,
   "id": "50b44c68-7379-434c-827d-679895b0425f",
   "metadata": {
    "collapsed": true,
    "jupyter": {
     "outputs_hidden": true,
     "source_hidden": true
    }
   },
   "outputs": [
    {
     "name": "stdout",
     "output_type": "stream",
     "text": [
      "Python 3-Month Divakar Kushwaha\n"
     ]
    }
   ],
   "source": [
    "#super method example \n",
    "class Data_science:\n",
    "    def __init__(self, subject, duration, teacher):\n",
    "        self.subject = subject\n",
    "        self.duration = duration\n",
    "        self.teacher = teacher\n",
    "\n",
    "    def display(self):\n",
    "        print(self.subject, self.duration, self.teacher)\n",
    "\n",
    "class Python(Data_science):  # Inherit from Data_science\n",
    "    def __init__(self, subject, duration, teacher):\n",
    "        super().__init__(subject, duration, teacher)\n",
    "\n",
    "D = Python(\"Python\", \"3-Month\", \"Divakar Kushwaha\")\n",
    "D.display()\n"
   ]
  },
  {
   "cell_type": "markdown",
   "id": "882255bf-1ab3-4340-b32a-01158c4c7e99",
   "metadata": {},
   "source": [
    "23 JULY (polymorphsim)"
   ]
  },
  {
   "cell_type": "code",
   "execution_count": 18,
   "id": "2a87da28-bc51-455c-935d-b44515e15865",
   "metadata": {
    "collapsed": true,
    "jupyter": {
     "outputs_hidden": true,
     "source_hidden": true
    }
   },
   "outputs": [
    {
     "name": "stdout",
     "output_type": "stream",
     "text": [
      "12\n",
      "{'name': 'abhishek', 'city': 'up', 'salary': 4345}\n",
      "dict_keys(['name', 'city', 'salary'])\n",
      "dict_values(['abhishek', 'up', 4345])\n",
      "dict_items([('name', 'abhishek'), ('city', 'up'), ('salary', 4345)])\n",
      "up\n"
     ]
    }
   ],
   "source": [
    "# Polymorphism\n",
    "txt=\"hello people\"\n",
    "print(len(txt))\n",
    "\n",
    "# in this its a dictinary, but it has 2 different data type (int, character)\n",
    "dic={\n",
    "    \"name\":\"abhishek\",\n",
    "    \"city\":\"up\",\n",
    "    \"salary\":4345,\n",
    "}\n",
    "print(dic)\n",
    "print(dic.keys())\n",
    "print(dic.values())\n",
    "print(dic.items())\n",
    "print(dic[\"city\"])"
   ]
  },
  {
   "cell_type": "code",
   "execution_count": 23,
   "id": "cbb06afa-134b-43f7-ba0a-35c58f5b7c8a",
   "metadata": {
    "collapsed": true,
    "jupyter": {
     "outputs_hidden": true,
     "source_hidden": true
    }
   },
   "outputs": [
    {
     "name": "stdout",
     "output_type": "stream",
     "text": [
      "you can drive the car\n",
      "you can drive the Boat\n",
      "You can fly the Plane\n"
     ]
    }
   ],
   "source": [
    "# polymorisphm\n",
    "class Car:\n",
    "    def __init__(self, brand , model):\n",
    "        self.brand=brand\n",
    "        self.model=model\n",
    "\n",
    "    def abhi(self):\n",
    "        print(\"you can drive the car\")\n",
    "\n",
    "class Boat:\n",
    "    def __init__(self, brand, model):\n",
    "        self.brand=brand\n",
    "        self.model=model\n",
    "\n",
    "    def abhi(self):\n",
    "        print(\"you can drive the Boat\")\n",
    "\n",
    "class Plane:\n",
    "    def __init__(self, brand, model):\n",
    "        self.brand=brand\n",
    "        self.model=model\n",
    "\n",
    "    def abhi(self):\n",
    "        print(\"You can fly the Plane\")\n",
    "\n",
    "#  create a object of the class for each of the them\n",
    "c1=Car(\"Audi\",\"A4\")\n",
    "b1=Boat(\"Porshce\", \"911\")\n",
    "p1=Plane(\"Air-India\", \"A-300\")\n",
    "\n",
    "for x in (c1, b1, p1):\n",
    "    x.abhi()"
   ]
  },
  {
   "cell_type": "markdown",
   "id": "69a46352-520a-4cb1-85a9-10b653b3b707",
   "metadata": {
    "collapsed": true,
    "jupyter": {
     "outputs_hidden": true
    }
   },
   "source": [
    "26 JULY (file handling)"
   ]
  },
  {
   "cell_type": "code",
   "execution_count": null,
   "id": "6cc9e386-514e-42bc-974d-7d0a87d6a100",
   "metadata": {
    "collapsed": true,
    "jupyter": {
     "outputs_hidden": true,
     "source_hidden": true
    }
   },
   "outputs": [],
   "source": [
    "# FILE HANDLING\n",
    "\"\"\"\n",
    "2 types of file mode - 1) R (to read file) and 2) W (to write file). \n",
    "to read single line you have to use readline function()\n",
    "to read the mulitline you have to use read function()\n",
    "to open the file you have to use open funtion()\n",
    "to close the file you have to use close funtion()\n",
    "to read the file you have to use read function() \n",
    "to write the file you have to use write function()\n",
    "\"\"\""
   ]
  },
  {
   "cell_type": "code",
   "execution_count": 11,
   "id": "28c9ea34-75fd-4275-b2c1-9799e15bc6a3",
   "metadata": {
    "collapsed": true,
    "jupyter": {
     "outputs_hidden": true,
     "source_hidden": true
    }
   },
   "outputs": [
    {
     "name": "stdout",
     "output_type": "stream",
     "text": [
      "hey world!\n",
      "\n"
     ]
    }
   ],
   "source": [
    "# IMPORT FILE HANDLING. python file handling\n",
    "# go to upload new file -> upload \"python file handling\" file \n",
    "# another method to open and read the file.\n",
    "# fh = file handling\n",
    "fh=open(\"E:\\ducat\\python\\python file handling.txt\")\n",
    "print(fh.readline())"
   ]
  },
  {
   "cell_type": "code",
   "execution_count": 12,
   "id": "c1be8576-1832-42b4-b032-f6a7585c0094",
   "metadata": {
    "collapsed": true,
    "jupyter": {
     "outputs_hidden": true,
     "source_hidden": true
    }
   },
   "outputs": [
    {
     "name": "stdout",
     "output_type": "stream",
     "text": [
      "hey world!\n",
      "\n"
     ]
    }
   ],
   "source": [
    "# readline(). only show 1 line\n",
    "fh=open(\"python file handling.txt\")\n",
    "print(fh.readline())"
   ]
  },
  {
   "cell_type": "code",
   "execution_count": 11,
   "id": "84861d68-b34d-4a21-a79a-ee76994adf0c",
   "metadata": {
    "collapsed": true,
    "jupyter": {
     "outputs_hidden": true,
     "source_hidden": true
    }
   },
   "outputs": [
    {
     "name": "stdout",
     "output_type": "stream",
     "text": [
      "hey world!\n",
      "this is to apply file handling in python using jupyter\n"
     ]
    }
   ],
   "source": [
    "# read(). show every line.\n",
    "# after uploading file in juypter, you dont have to enter whole address.\n",
    "fh=open(\"python file handling.txt\")\n",
    "print(fh.read())"
   ]
  },
  {
   "cell_type": "code",
   "execution_count": 7,
   "id": "179edc79-7153-4ae5-af02-681c526a3d06",
   "metadata": {
    "collapsed": true,
    "jupyter": {
     "outputs_hidden": true,
     "source_hidden": true
    }
   },
   "outputs": [
    {
     "name": "stdin",
     "output_type": "stream",
     "text": [
      "enter your number:  55\n"
     ]
    },
    {
     "data": {
      "text/plain": [
       "2"
      ]
     },
     "execution_count": 7,
     "metadata": {},
     "output_type": "execute_result"
    }
   ],
   "source": [
    "# write in file\n",
    "number = input(\"enter your number: \")\n",
    "fh = open(\"pythonfh.txt\", \"w\")\n",
    "fh.write(number)"
   ]
  },
  {
   "cell_type": "code",
   "execution_count": 9,
   "id": "66910455-5aba-4f6c-8c7f-2dce03479541",
   "metadata": {
    "collapsed": true,
    "jupyter": {
     "outputs_hidden": true,
     "source_hidden": true
    }
   },
   "outputs": [
    {
     "name": "stdout",
     "output_type": "stream",
     "text": [
      "27\n"
     ]
    }
   ],
   "source": [
    "# read the file \n",
    "f = open(\"pythonfh.txt\")\n",
    "print(f.read())"
   ]
  },
  {
   "cell_type": "code",
   "execution_count": 21,
   "id": "95ffe9d8-b694-4cf4-8556-8c73ea4af0bc",
   "metadata": {
    "collapsed": true,
    "jupyter": {
     "outputs_hidden": true,
     "source_hidden": true
    }
   },
   "outputs": [],
   "source": [
    "#  how to import module from library\n",
    "# import os \n",
    "# os.remove(\"pythonread.txt\")\n",
    "# it is giving error "
   ]
  },
  {
   "cell_type": "markdown",
   "id": "e404e8bf-c7d9-4022-be7e-d4c3cfd8e644",
   "metadata": {},
   "source": [
    "30 july Exception handling"
   ]
  },
  {
   "cell_type": "code",
   "execution_count": 5,
   "id": "1dfb0356-2328-4199-bbfa-e60963887472",
   "metadata": {
    "collapsed": true,
    "jupyter": {
     "outputs_hidden": true,
     "source_hidden": true
    }
   },
   "outputs": [],
   "source": [
    "# EXCEPTION HANDLING\n",
    "# Type of error: 1) compile time error, 2) run time error, 3) syntax error\n",
    "# try, except, finally, else "
   ]
  },
  {
   "cell_type": "code",
   "execution_count": 11,
   "id": "c1e078fd-6d65-4bf2-b56e-434280e80769",
   "metadata": {
    "collapsed": true,
    "jupyter": {
     "outputs_hidden": true,
     "source_hidden": true
    }
   },
   "outputs": [],
   "source": [
    "# for exception handling we have to use try, except, finally and else keyword.   "
   ]
  },
  {
   "cell_type": "code",
   "execution_count": 17,
   "id": "f750fb02-f22b-48f2-a51d-5086b8433820",
   "metadata": {
    "collapsed": true,
    "jupyter": {
     "outputs_hidden": true,
     "source_hidden": true
    }
   },
   "outputs": [
    {
     "name": "stdout",
     "output_type": "stream",
     "text": [
      "10\n"
     ]
    }
   ],
   "source": [
    "try:\n",
    "    print(a)\n",
    "except:\n",
    "    print(\"an error will occured\")"
   ]
  },
  {
   "cell_type": "code",
   "execution_count": 15,
   "id": "3e5ed6e7-b77c-405a-813b-f16bd38282cc",
   "metadata": {
    "collapsed": true,
    "jupyter": {
     "outputs_hidden": true,
     "source_hidden": true
    }
   },
   "outputs": [
    {
     "name": "stdout",
     "output_type": "stream",
     "text": [
      "sum is 13\n"
     ]
    }
   ],
   "source": [
    "# add 2 number with exception handling\n",
    "try:\n",
    "    a=10\n",
    "    b=3\n",
    "    print(f\"sum is {a+b}\")\n",
    "except:\n",
    "    print(\"an error will occured\")"
   ]
  },
  {
   "cell_type": "code",
   "execution_count": 29,
   "id": "7d7e05f4-1999-4a90-88e5-fb63ffdfaba4",
   "metadata": {
    "collapsed": true,
    "jupyter": {
     "outputs_hidden": true,
     "source_hidden": true
    }
   },
   "outputs": [
    {
     "name": "stdin",
     "output_type": "stream",
     "text": [
      "enter your username:  asd\n",
      "enter your password:  das\n"
     ]
    },
    {
     "name": "stdout",
     "output_type": "stream",
     "text": [
      "your username is asd and your password is das\n"
     ]
    }
   ],
   "source": [
    "# exception handling \n",
    "try:\n",
    "    username = input(\"enter your username: \")\n",
    "    password = input(\"enter your password: \")\n",
    "    print(f\"your username is {username} and your password is {password}\")\n",
    "except:\n",
    "    print(\"an error will occured\")\n",
    "finally:\n",
    "    (\"try and except have done their work\")"
   ]
  },
  {
   "cell_type": "code",
   "execution_count": 23,
   "id": "ccc270f3-6cb4-46a0-877d-af0888251f46",
   "metadata": {
    "collapsed": true,
    "jupyter": {
     "outputs_hidden": true,
     "source_hidden": true
    }
   },
   "outputs": [
    {
     "name": "stdin",
     "output_type": "stream",
     "text": [
      "enter first number:  5\n",
      "enter second number:  7\n"
     ]
    },
    {
     "name": "stdout",
     "output_type": "stream",
     "text": [
      "sum of 5 and 7 is 12\n",
      "try and except has done their work\n"
     ]
    }
   ],
   "source": [
    "# user defined add with exception handling\n",
    "try:\n",
    "    n1 = int(input(\"enter first number: \"))\n",
    "    n2 = int(input(\"enter second number: \"))\n",
    "    print(f\"sum of {n1} and {n2} is {n1+n2}\")\n",
    "except:\n",
    "    print(\"an error will occured\")\n",
    "finally:\n",
    "    print(\"try and except has done their work\")"
   ]
  },
  {
   "cell_type": "code",
   "execution_count": 26,
   "id": "59e06272-b38c-493c-8b7d-cca475a4bc49",
   "metadata": {
    "collapsed": true,
    "jupyter": {
     "outputs_hidden": true,
     "source_hidden": true
    }
   },
   "outputs": [
    {
     "name": "stdout",
     "output_type": "stream",
     "text": [
      "6\n",
      "2\n",
      "12\n",
      "4.666666666666667\n",
      "try and except have done\n"
     ]
    }
   ],
   "source": [
    "# funtion with exception handling\n",
    "try:\n",
    "    def add():\n",
    "        print(2+4)\n",
    "    def sub():\n",
    "        print(4-2)\n",
    "\n",
    "    def multi():\n",
    "        print(4*3)\n",
    "\n",
    "    def divi():\n",
    "        print(14/3)\n",
    "\n",
    "# call all the function\n",
    "    add()\n",
    "    sub()\n",
    "    multi()\n",
    "    divi()\n",
    "\n",
    "except:\n",
    "    print(\"ERROR. something is wrong\")\n",
    "finally:\n",
    "    print(\"try and except have done\")"
   ]
  },
  {
   "cell_type": "code",
   "execution_count": 8,
   "id": "3693d8d1-cddb-41f3-9aab-8fba84f033e2",
   "metadata": {
    "collapsed": true,
    "jupyter": {
     "outputs_hidden": true,
     "source_hidden": true
    }
   },
   "outputs": [
    {
     "name": "stdin",
     "output_type": "stream",
     "text": [
      "enter first number:  3\n",
      "enter second number:  4\n"
     ]
    },
    {
     "name": "stdout",
     "output_type": "stream",
     "text": [
      "sum of 3 and 4 is 7\n"
     ]
    },
    {
     "name": "stdin",
     "output_type": "stream",
     "text": [
      "enter first number:  6\n",
      "enter second number:  h\n"
     ]
    },
    {
     "name": "stdout",
     "output_type": "stream",
     "text": [
      "error, something is wrong\n",
      "try and except have done their work\n"
     ]
    }
   ],
   "source": [
    "# user defiend function with exception handlng\n",
    "try:\n",
    "    def add():\n",
    "        n1 = int(input(\"enter first number: \"))\n",
    "        n2 = int(input(\"enter second number: \"))\n",
    "        print(f\"sum of {n1} and {n2} is {n1+n2}\")\n",
    "\n",
    "    def sub():\n",
    "        n1 = int(input(\"enter first number: \"))\n",
    "        n2 = int(input(\"enter second number: \"))\n",
    "        print(f\"sub of {n1} and {n2} is {n1-n2}\")\n",
    "\n",
    "    add()\n",
    "    sub()\n",
    "\n",
    "except:\n",
    "    print(\"error, something is wrong\")\n",
    "finally:\n",
    "    print(\"try and except have done their work\")"
   ]
  },
  {
   "cell_type": "code",
   "execution_count": 32,
   "id": "824572f0-9fad-4679-a236-bfb6c8c64d86",
   "metadata": {
    "collapsed": true,
    "jupyter": {
     "outputs_hidden": true,
     "source_hidden": true
    }
   },
   "outputs": [
    {
     "name": "stdin",
     "output_type": "stream",
     "text": [
      "enter your string:  abhishek\n"
     ]
    },
    {
     "name": "stdout",
     "output_type": "stream",
     "text": [
      "after using upper(): ABHISHEK\n",
      "after using lower(): abhishek\n",
      "is your string upper(): False\n",
      "is your string lower(): True\n",
      "is your string title():  False\n",
      "abhishek\n",
      "no error\n",
      "programm done\n"
     ]
    }
   ],
   "source": [
    "try:\n",
    "    str= input(\"enter your string: \")\n",
    "    print(f\"after using upper():\",str.upper())\n",
    "    print(f\"after using lower():\",str.lower())\n",
    "    print(f\"is your string upper():\",str.isupper())\n",
    "    print(f\"is your string lower():\",str.islower())\n",
    "    print(f\"is your string title(): \",str.istitle())\n",
    "    print(str.casefold())\n",
    "except:\n",
    "    print(\"error\")\n",
    "else:\n",
    "    print(\"no error\")\n",
    "finally:\n",
    "    print(\"programm done\")"
   ]
  },
  {
   "cell_type": "code",
   "execution_count": 37,
   "id": "dee3d3dd-9a26-4b93-9e72-2a4d4b4c36b8",
   "metadata": {
    "collapsed": true,
    "jupyter": {
     "outputs_hidden": true,
     "source_hidden": true
    }
   },
   "outputs": [
    {
     "name": "stdin",
     "output_type": "stream",
     "text": [
      "enter your name:  asdfg\n",
      "enter your password:  d\n"
     ]
    },
    {
     "name": "stdout",
     "output_type": "stream",
     "text": [
      "wrong name or password. you cant login\n",
      "no error\n",
      "programm complete\n"
     ]
    }
   ],
   "source": [
    "# exception handling using logical operator\n",
    "try:\n",
    "    name = input(\"enter your name: \")\n",
    "    password = input(\"enter your password: \")\n",
    "    if (name == \"abhishek\" and password == \"asd\"):\n",
    "        print(\"you can login\")\n",
    "    else:\n",
    "        print(\"wrong name or password. you cant login\")\n",
    "except:\n",
    "    print(\"error\")\n",
    "else:\n",
    "    print(\"no error\")\n",
    "finally:\n",
    "    print(\"programm complete\")"
   ]
  },
  {
   "cell_type": "code",
   "execution_count": 38,
   "id": "9ccaedf3-aae3-462d-aad1-515c25b0803a",
   "metadata": {
    "collapsed": true,
    "jupyter": {
     "outputs_hidden": true,
     "source_hidden": true
    }
   },
   "outputs": [
    {
     "name": "stdin",
     "output_type": "stream",
     "text": [
      "enter your name:  abhishek\n",
      "enter your password:  ewr\n"
     ]
    },
    {
     "name": "stdout",
     "output_type": "stream",
     "text": [
      "you can login\n",
      "no error\n",
      "programm complete\n"
     ]
    }
   ],
   "source": [
    "# exception handling using logical operator\n",
    "try:\n",
    "    name = input(\"enter your name: \")\n",
    "    password = input(\"enter your password: \")\n",
    "    if (name == \"abhishek\" or password == \"asd\"):\n",
    "        print(\"you can login\")\n",
    "    else:\n",
    "        print(\"wrong name or password. you cant login\")\n",
    "except:\n",
    "    print(\"error\")\n",
    "else:\n",
    "    print(\"no error\")\n",
    "finally:\n",
    "    print(\"programm complete\")"
   ]
  },
  {
   "cell_type": "code",
   "execution_count": 44,
   "id": "031d4274-414d-4a36-8f91-afdaa2470800",
   "metadata": {
    "collapsed": true,
    "jupyter": {
     "outputs_hidden": true,
     "source_hidden": true
    }
   },
   "outputs": [
    {
     "name": "stdout",
     "output_type": "stream",
     "text": [
      "77\n",
      "program done\n"
     ]
    }
   ],
   "source": [
    "try:\n",
    "    fh = open(\"file handling.txt\")\n",
    "    print(fh.read())\n",
    "except:\n",
    "    print(\"error\")\n",
    "finally:\n",
    "    print(\"program done\")"
   ]
  },
  {
   "cell_type": "code",
   "execution_count": 45,
   "id": "7cacdd37-fb1d-432b-ab84-7a7b770182d6",
   "metadata": {
    "collapsed": true,
    "jupyter": {
     "outputs_hidden": true,
     "source_hidden": true
    }
   },
   "outputs": [
    {
     "name": "stdin",
     "output_type": "stream",
     "text": [
      "enter your number:  4\n"
     ]
    },
    {
     "name": "stdout",
     "output_type": "stream",
     "text": [
      "your number is a positive number\n",
      "programm done\n"
     ]
    }
   ],
   "source": [
    "# nested if else with exception handling\n",
    "try:\n",
    "    num = int(input(\"enter your number: \"))\n",
    "    if num<0:\n",
    "        print(\"its a negative number\")\n",
    "    elif (num>0):\n",
    "        print(\"your number is a positive number\")\n",
    "    else:\n",
    "        print(\"your number is zero\")\n",
    "\n",
    "except:\n",
    "    print(\"error\")\n",
    "finally:\n",
    "    print(\"programm done\")\n"
   ]
  },
  {
   "cell_type": "code",
   "execution_count": 47,
   "id": "95362070-f823-4c1f-8047-80e7261055ed",
   "metadata": {
    "collapsed": true,
    "jupyter": {
     "outputs_hidden": true,
     "source_hidden": true
    }
   },
   "outputs": [
    {
     "name": "stdout",
     "output_type": "stream",
     "text": [
      "0\n",
      "1\n",
      "2\n",
      "3\n",
      "4\n",
      "no error\n",
      "project complete\n"
     ]
    }
   ],
   "source": [
    "# loop with exception handling\n",
    "try:\n",
    "    for i in range(5):\n",
    "        print(i)\n",
    "except:\n",
    "    print(\"error\")\n",
    "else:\n",
    "    print(\"no error\")\n",
    "finally:\n",
    "    print(\"project complete\")"
   ]
  },
  {
   "cell_type": "code",
   "execution_count": 2,
   "id": "c60fc169-12a5-4923-b83a-ba6629667710",
   "metadata": {
    "collapsed": true,
    "jupyter": {
     "outputs_hidden": true,
     "source_hidden": true
    }
   },
   "outputs": [
    {
     "name": "stdin",
     "output_type": "stream",
     "text": [
      "enter your age:  24\n"
     ]
    },
    {
     "name": "stdout",
     "output_type": "stream",
     "text": [
      "age is valid\n"
     ]
    }
   ],
   "source": [
    "# 5 august. raise exception. we use raise to throw exception when certain condition occur.\n",
    "try:\n",
    "    age = int(input(\"enter your age: \"))\n",
    "    if age<18:\n",
    "        raise Exception;\n",
    "    else:\n",
    "        print('age is valid')\n",
    "except exception:\n",
    "    print('age not valid')"
   ]
  },
  {
   "cell_type": "code",
   "execution_count": 9,
   "id": "b017fb7d-c909-4c5c-9ae3-36f43a4c4a2b",
   "metadata": {
    "collapsed": true,
    "jupyter": {
     "outputs_hidden": true,
     "source_hidden": true
    }
   },
   "outputs": [
    {
     "name": "stdin",
     "output_type": "stream",
     "text": [
      "Enter your age:  32\n"
     ]
    },
    {
     "name": "stdout",
     "output_type": "stream",
     "text": [
      "Age is valid\n"
     ]
    }
   ],
   "source": [
    "# raise keyword done by chatgpt\n",
    "try:\n",
    "    age = int(input(\"Enter your age: \"))\n",
    "    if age < 18:\n",
    "        raise Exception(\"Age not valid\")\n",
    "    else:\n",
    "        print(\"Age is valid\")\n",
    "except Exception as e:\n",
    "    print(e)"
   ]
  },
  {
   "cell_type": "code",
   "execution_count": 20,
   "id": "161ef2e1-fedc-423f-9ab1-3a61c353b5c7",
   "metadata": {
    "collapsed": true,
    "jupyter": {
     "outputs_hidden": true,
     "source_hidden": true
    }
   },
   "outputs": [
    {
     "name": "stdin",
     "output_type": "stream",
     "text": [
      "enter x:  4\n",
      "enter y:  0\n"
     ]
    },
    {
     "ename": "AssertionError",
     "evalue": "divide by 0 error",
     "output_type": "error",
     "traceback": [
      "\u001b[1;31m---------------------------------------------------------------------------\u001b[0m",
      "\u001b[1;31mAssertionError\u001b[0m                            Traceback (most recent call last)",
      "Cell \u001b[1;32mIn[20], line 4\u001b[0m\n\u001b[0;32m      2\u001b[0m x \u001b[38;5;241m=\u001b[39m \u001b[38;5;28mint\u001b[39m(\u001b[38;5;28minput\u001b[39m(\u001b[38;5;124m'\u001b[39m\u001b[38;5;124menter x: \u001b[39m\u001b[38;5;124m'\u001b[39m))\n\u001b[0;32m      3\u001b[0m y \u001b[38;5;241m=\u001b[39m \u001b[38;5;28mint\u001b[39m(\u001b[38;5;28minput\u001b[39m(\u001b[38;5;124m'\u001b[39m\u001b[38;5;124menter y: \u001b[39m\u001b[38;5;124m'\u001b[39m))\n\u001b[1;32m----> 4\u001b[0m \u001b[38;5;28;01massert\u001b[39;00m y\u001b[38;5;241m!=\u001b[39m\u001b[38;5;241m0\u001b[39m,\u001b[38;5;124m'\u001b[39m\u001b[38;5;124mdivide by 0 error\u001b[39m\u001b[38;5;124m'\u001b[39m\n\u001b[0;32m      6\u001b[0m \u001b[38;5;66;03m# it uses assert to check for 0\u001b[39;00m\n\u001b[0;32m      7\u001b[0m \u001b[38;5;28mprint\u001b[39m(\u001b[38;5;124m'\u001b[39m\u001b[38;5;124mx/y value is: \u001b[39m\u001b[38;5;124m'\u001b[39m,x\u001b[38;5;241m/\u001b[39my)\n",
      "\u001b[1;31mAssertionError\u001b[0m: divide by 0 error"
     ]
    }
   ],
   "source": [
    "# assert statement. if condition is not satisfied assert stop the program and geive assetion error alonsg with the error message.\n",
    "x = int(input('enter x: '))\n",
    "y = int(input('enter y: '))\n",
    "assert y!=0,'divide by 0 error'\n",
    "\n",
    "# it uses assert to check for 0\n",
    "print('x/y value is: ',x/y)\n",
    "# assert y!=0,'divide by 0 error'\n"
   ]
  },
  {
   "cell_type": "code",
   "execution_count": 24,
   "id": "72367d95-cc36-49ab-96bb-4b46fa14dd4a",
   "metadata": {
    "collapsed": true,
    "jupyter": {
     "outputs_hidden": true,
     "source_hidden": true
    }
   },
   "outputs": [
    {
     "name": "stdout",
     "output_type": "stream",
     "text": [
      "13\n"
     ]
    }
   ],
   "source": [
    "# lambda function is anonymous function. it can take any number of arguments, but can only have 1 expression\n",
    "# add 5 to argument a, and return the result\n",
    "x = lambda a:a + 5     # '+' is a expression here\n",
    "print(x(8))"
   ]
  },
  {
   "cell_type": "code",
   "execution_count": 32,
   "id": "28eefaf0-0a39-4227-87b0-827a39df6b01",
   "metadata": {
    "collapsed": true,
    "jupyter": {
     "outputs_hidden": true,
     "source_hidden": true
    }
   },
   "outputs": [
    {
     "name": "stdout",
     "output_type": "stream",
     "text": [
      "15\n"
     ]
    }
   ],
   "source": [
    "# lambda function\n",
    "x = lambda a, b, c:a + b + c   # it will only take '+' because it only take 1 expression\n",
    "print(x(5,3,7))"
   ]
  },
  {
   "cell_type": "code",
   "execution_count": 31,
   "id": "54ed292f-b9e3-4704-8f17-aa4c8af715c2",
   "metadata": {
    "collapsed": true,
    "jupyter": {
     "outputs_hidden": true,
     "source_hidden": true
    }
   },
   "outputs": [
    {
     "name": "stdout",
     "output_type": "stream",
     "text": [
      "30\n"
     ]
    }
   ],
   "source": [
    "# lambda function with def()\n",
    "def abhi(n):\n",
    "    return lambda a:a * n\n",
    "mine = abhi(3)   # 3 is going to n\n",
    "print(mine(10))\n",
    "# print(mine(4))"
   ]
  },
  {
   "cell_type": "code",
   "execution_count": 3,
   "id": "69996304-7a67-45f3-b7f4-f46197a090ac",
   "metadata": {
    "collapsed": true,
    "jupyter": {
     "outputs_hidden": true,
     "source_hidden": true
    }
   },
   "outputs": [
    {
     "name": "stdout",
     "output_type": "stream",
     "text": [
      "6\n"
     ]
    }
   ],
   "source": [
    "# Lambda function with a different expression\n",
    "x = lambda a, b, c: a + b - c  # The expression includes both addition and subtraction\n",
    "\n",
    "print(x(5, 3, 2))  # Output will be 6"
   ]
  },
  {
   "cell_type": "code",
   "execution_count": null,
   "id": "19687596-28cf-4027-8e53-1d2218290a97",
   "metadata": {
    "collapsed": true,
    "jupyter": {
     "outputs_hidden": true,
     "source_hidden": true
    }
   },
   "outputs": [],
   "source": []
  },
  {
   "cell_type": "code",
   "execution_count": 16,
   "id": "53267622-e997-460c-b1a9-b09c658cb961",
   "metadata": {
    "collapsed": true,
    "jupyter": {
     "outputs_hidden": true,
     "source_hidden": true
    }
   },
   "outputs": [
    {
     "name": "stdout",
     "output_type": "stream",
     "text": [
      "this is just so that current cell remains on top of screen, not at bottom of screen\n"
     ]
    }
   ],
   "source": [
    "print(\"this is just so that current cell remains on top of screen, not at bottom of screen\")\n",
    "\n",
    "\n",
    "\n",
    "\n",
    "\n",
    "\n",
    "\n",
    "\n",
    "\n",
    "\n",
    "\n"
   ]
  }
 ],
 "metadata": {
  "kernelspec": {
   "display_name": "Python 3 (ipykernel)",
   "language": "python",
   "name": "python3"
  },
  "language_info": {
   "codemirror_mode": {
    "name": "ipython",
    "version": 3
   },
   "file_extension": ".py",
   "mimetype": "text/x-python",
   "name": "python",
   "nbconvert_exporter": "python",
   "pygments_lexer": "ipython3",
   "version": "3.11.7"
  }
 },
 "nbformat": 4,
 "nbformat_minor": 5
}
